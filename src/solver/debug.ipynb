{
 "cells": [
  {
   "cell_type": "code",
   "outputs": [
    {
     "name": "stdout",
     "output_type": "stream",
     "text": [
      "The autoreload extension is already loaded. To reload it, use:\n",
      "  %reload_ext autoreload\n"
     ]
    }
   ],
   "source": [
    "%load_ext autoreload\n",
    "%autoreload 2\n",
    "\n",
    "from src.solver.src.mock import *\n",
    "from src.solver.src.solution import *\n",
    "from src.solver.src.serialize import *"
   ],
   "metadata": {
    "collapsed": false,
    "ExecuteTime": {
     "end_time": "2024-11-03T07:15:02.017385082Z",
     "start_time": "2024-11-03T07:15:01.993634689Z"
    }
   },
   "id": "e2e9ae1683075eec",
   "execution_count": 46
  },
  {
   "cell_type": "code",
   "execution_count": 2,
   "id": "initial_id",
   "metadata": {
    "collapsed": true,
    "ExecuteTime": {
     "end_time": "2024-11-03T06:49:49.200087885Z",
     "start_time": "2024-11-03T06:49:49.173688248Z"
    }
   },
   "outputs": [],
   "source": [
    "employees, shifts, assignments = problem_mock(2024, 11, seed=42)"
   ]
  },
  {
   "cell_type": "code",
   "outputs": [],
   "source": [
    "problem = ShiftsSchedule(employees, shifts, assignments)"
   ],
   "metadata": {
    "collapsed": false,
    "ExecuteTime": {
     "end_time": "2024-11-03T06:49:49.228688291Z",
     "start_time": "2024-11-03T06:49:49.203777177Z"
    }
   },
   "id": "afad0be0d4d4ebbc",
   "execution_count": 3
  },
  {
   "cell_type": "code",
   "outputs": [
    {
     "name": "stdout",
     "output_type": "stream",
     "text": [
      "ShiftSchedule(assignments=117, employees=75, shifts=108, score=-12094hard/-11525medium/-2700soft)\n"
     ]
    }
   ],
   "source": [
    "solution, score_analysis = solve(problem)\n",
    "print(solution)"
   ],
   "metadata": {
    "collapsed": false,
    "ExecuteTime": {
     "end_time": "2024-11-03T06:51:33.603349915Z",
     "start_time": "2024-11-03T06:49:49.230853545Z"
    }
   },
   "id": "1f9e6c669b9610d3",
   "execution_count": 4
  },
  {
   "cell_type": "code",
   "outputs": [
    {
     "data": {
      "text/plain": "ShiftSchedule(assignments=117, employees=75, shifts=108, score=-12094hard/-11525medium/-2700soft)"
     },
     "execution_count": 5,
     "metadata": {},
     "output_type": "execute_result"
    }
   ],
   "source": [
    "solution"
   ],
   "metadata": {
    "collapsed": false,
    "ExecuteTime": {
     "end_time": "2024-11-03T06:51:33.604196272Z",
     "start_time": "2024-11-03T06:51:33.596628564Z"
    }
   },
   "id": "92d0eb837f7e9742",
   "execution_count": 5
  },
  {
   "cell_type": "code",
   "outputs": [
    {
     "name": "stdout",
     "output_type": "stream",
     "text": [
      "src.solver.src.domain/department_desired 0hard/0medium/-2700soft\n",
      "src.solver.src.domain/availability_desired 0hard/-10medium/0soft\n",
      "src.solver.src.domain/availability_undesired 0hard/-15medium/0soft\n",
      "src.solver.src.domain/over_required_shift_amount 0hard/-4800medium/0soft\n",
      "src.solver.src.domain/under_required_shift_amount 0hard/-6700medium/0soft\n",
      "src.solver.src.domain/availability_impossible -91hard/0medium/0soft\n",
      "src.solver.src.domain/availability_necessary -3hard/0medium/0soft\n",
      "src.solver.src.domain/at_least_12h_rest 0hard/0medium/0soft\n",
      "src.solver.src.domain/at_least_36h_rest_weekly 0hard/0medium/0soft\n",
      "src.solver.src.domain/has_qualification -9000hard/0medium/0soft\n",
      "src.solver.src.domain/no_overlapping_shifts -3000hard/0medium/0soft\n"
     ]
    }
   ],
   "source": [
    "for constraint_ref, constraint_analysis in score_analysis.constraint_map.items():\n",
    "   constraint_id = constraint_ref.constraint_id\n",
    "   score_per_constraint = constraint_analysis.score\n",
    "   print(constraint_id, score_per_constraint)"
   ],
   "metadata": {
    "collapsed": false,
    "ExecuteTime": {
     "end_time": "2024-11-03T06:51:33.604723795Z",
     "start_time": "2024-11-03T06:51:33.596791458Z"
    }
   },
   "id": "5f3a09e4e385b06",
   "execution_count": 6
  },
  {
   "cell_type": "code",
   "outputs": [],
   "source": [
    "with open(\"42.solution.json\", \"w\") as f:\n",
    "   f.write(serialize_result(solution, score_analysis))"
   ],
   "metadata": {
    "collapsed": false,
    "ExecuteTime": {
     "end_time": "2024-11-03T07:15:32.255781881Z",
     "start_time": "2024-11-03T07:15:27.515703726Z"
    }
   },
   "id": "76b1756dff250d60",
   "execution_count": 48
  },
  {
   "cell_type": "code",
   "outputs": [],
   "source": [],
   "metadata": {
    "collapsed": false
   },
   "id": "f6016bdf5f798a9d"
  }
 ],
 "metadata": {
  "kernelspec": {
   "display_name": "Python 3",
   "language": "python",
   "name": "python3"
  },
  "language_info": {
   "codemirror_mode": {
    "name": "ipython",
    "version": 2
   },
   "file_extension": ".py",
   "mimetype": "text/x-python",
   "name": "python",
   "nbconvert_exporter": "python",
   "pygments_lexer": "ipython2",
   "version": "2.7.6"
  }
 },
 "nbformat": 4,
 "nbformat_minor": 5
}
