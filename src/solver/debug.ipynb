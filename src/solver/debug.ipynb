{
 "cells": [
  {
   "cell_type": "code",
   "outputs": [
    {
     "name": "stdout",
     "output_type": "stream",
     "text": [
      "The autoreload extension is already loaded. To reload it, use:\n",
      "  %reload_ext autoreload\n"
     ]
    }
   ],
   "source": [
    "%load_ext autoreload\n",
    "%autoreload 2\n",
    "\n",
    "from src.solver.src.mock import *\n",
    "from src.solver.src.solution import *\n",
    "from src.solver.src.serialize import *"
   ],
   "metadata": {
    "collapsed": false,
    "ExecuteTime": {
     "end_time": "2024-11-03T10:32:03.165489179Z",
     "start_time": "2024-11-03T10:32:03.120439392Z"
    }
   },
   "id": "e2e9ae1683075eec",
   "execution_count": 6
  },
  {
   "cell_type": "code",
   "outputs": [],
   "source": [
    "problem_doctors = ShiftsSchedule(*problem_mock_doctors(2024, 11, seed=42, type=\"weekly\"))\n",
    "problem_nurses = ShiftsSchedule(*problem_mock_nurses(2024, 11, seed=42, type=\"weekly\"))\n",
    "problem_rtg_assistants = ShiftsSchedule(*problem_mock_rtg_assistants(2024, 11, seed=42, type=\"weekly\"))"
   ],
   "metadata": {
    "collapsed": false,
    "ExecuteTime": {
     "end_time": "2024-11-03T10:32:03.201014139Z",
     "start_time": "2024-11-03T10:32:03.143162173Z"
    }
   },
   "id": "afad0be0d4d4ebbc",
   "execution_count": 7
  },
  {
   "cell_type": "code",
   "outputs": [
    {
     "data": {
      "text/plain": "HardMediumSoftScore(init_score=0, hard_score=-19014, medium_score=-36465, soft_score=-1500)"
     },
     "execution_count": 13,
     "metadata": {},
     "output_type": "execute_result"
    }
   ],
   "source": [
    "solution_doctors, score_analysis_doctors = solve(problem_doctors, spent_limit=Duration(minutes=10, seconds=0))\n",
    "with open(f\"doctors.{score_analysis_doctors.score.hard_score}.solution.json\", \"w\") as f:\n",
    "   f.write(serialize_result(solution_doctors, score_analysis_doctors))\n",
    "score_analysis_doctors.score"
   ],
   "metadata": {
    "collapsed": false,
    "ExecuteTime": {
     "end_time": "2024-11-03T10:58:49.150638416Z",
     "start_time": "2024-11-03T10:56:18.119720620Z"
    }
   },
   "id": "1f9e6c669b9610d3",
   "execution_count": 13
  },
  {
   "cell_type": "code",
   "outputs": [],
   "source": [
    "solution_nurses, score_analysis_nurses = solve(problem_nurses, spent_limit=Duration(minutes=5, seconds=0))\n",
    "with open(f\"nurses.{score_analysis_nurses.score.hard_score}.solution.json\", \"w\") as f:\n",
    "   f.write(serialize_result(solution_nurses, score_analysis_nurses))"
   ],
   "metadata": {
    "collapsed": false,
    "ExecuteTime": {
     "end_time": "2024-11-03T10:38:37.467256483Z",
     "start_time": "2024-11-03T10:34:36.499866216Z"
    }
   },
   "id": "92d0eb837f7e9742",
   "execution_count": 9
  },
  {
   "cell_type": "code",
   "outputs": [
    {
     "data": {
      "text/plain": "HardMediumSoftScore(init_score=0, hard_score=-18016, medium_score=-18490, soft_score=-700)"
     },
     "execution_count": 12,
     "metadata": {},
     "output_type": "execute_result"
    }
   ],
   "source": [
    "solution_rtg_assistants, score_analysis_rtg_assistants = solve(problem_rtg_assistants, spent_limit=Duration(minutes=10, seconds=0))\n",
    "with open(f\"rtg_assistants.{score_analysis_rtg_assistants.score.hard_score}.solution.json\", \"w\") as f:\n",
    "   f.write(serialize_result(solution_rtg_assistants, score_analysis_rtg_assistants))\n",
    "score_analysis_rtg_assistants.score"
   ],
   "metadata": {
    "collapsed": false,
    "ExecuteTime": {
     "end_time": "2024-11-03T10:56:18.128321874Z",
     "start_time": "2024-11-03T10:52:04.463838739Z"
    }
   },
   "id": "51aab91b86b327f0",
   "execution_count": 12
  },
  {
   "cell_type": "code",
   "outputs": [
    {
     "name": "stdout",
     "output_type": "stream",
     "text": [
      "src.solver.src.domain/department_desired 0hard/0medium/-1500soft\n",
      "src.solver.src.domain/availability_desired 0hard/-40medium/0soft\n",
      "src.solver.src.domain/availability_undesired 0hard/-25medium/0soft\n",
      "src.solver.src.domain/over_required_shift_amount 0hard/0medium/0soft\n",
      "src.solver.src.domain/under_required_shift_amount 0hard/-36400medium/0soft\n",
      "src.solver.src.domain/availability_impossible -6hard/0medium/0soft\n",
      "src.solver.src.domain/availability_necessary -8hard/0medium/0soft\n",
      "src.solver.src.domain/all_shifts_assigned 0hard/0medium/0soft\n",
      "src.solver.src.domain/at_least_12h_rest -1000hard/0medium/0soft\n",
      "src.solver.src.domain/at_least_36h_rest_weekly -4000hard/0medium/0soft\n",
      "src.solver.src.domain/has_qualification -9000hard/0medium/0soft\n",
      "src.solver.src.domain/no_overlapping_shifts -5000hard/0medium/0soft\n",
      "src.solver.src.domain/department_desired 0hard/0medium/-800soft\n",
      "src.solver.src.domain/availability_desired 0hard/-40medium/0soft\n",
      "src.solver.src.domain/availability_undesired 0hard/-50medium/0soft\n",
      "src.solver.src.domain/over_required_shift_amount 0hard/-1700medium/0soft\n",
      "src.solver.src.domain/under_required_shift_amount 0hard/-2200medium/0soft\n",
      "src.solver.src.domain/availability_impossible -2hard/0medium/0soft\n",
      "src.solver.src.domain/availability_necessary -3hard/0medium/0soft\n",
      "src.solver.src.domain/all_shifts_assigned 0hard/0medium/0soft\n",
      "src.solver.src.domain/at_least_12h_rest 0hard/0medium/0soft\n",
      "src.solver.src.domain/at_least_36h_rest_weekly 0hard/0medium/0soft\n",
      "src.solver.src.domain/has_qualification 0hard/0medium/0soft\n",
      "src.solver.src.domain/no_overlapping_shifts -1000hard/0medium/0soft\n",
      "src.solver.src.domain/department_desired 0hard/0medium/-700soft\n",
      "src.solver.src.domain/availability_desired 0hard/-65medium/0soft\n",
      "src.solver.src.domain/availability_undesired 0hard/-25medium/0soft\n",
      "src.solver.src.domain/over_required_shift_amount 0hard/0medium/0soft\n",
      "src.solver.src.domain/under_required_shift_amount 0hard/-18400medium/0soft\n",
      "src.solver.src.domain/availability_impossible -3hard/0medium/0soft\n",
      "src.solver.src.domain/availability_necessary -13hard/0medium/0soft\n",
      "src.solver.src.domain/all_shifts_assigned 0hard/0medium/0soft\n",
      "src.solver.src.domain/at_least_12h_rest -4000hard/0medium/0soft\n",
      "src.solver.src.domain/at_least_36h_rest_weekly -5000hard/0medium/0soft\n",
      "src.solver.src.domain/has_qualification 0hard/0medium/0soft\n",
      "src.solver.src.domain/no_overlapping_shifts -9000hard/0medium/0soft\n"
     ]
    }
   ],
   "source": [
    "for score_analysis in (score_analysis_doctors, score_analysis_nurses, score_analysis_rtg_assistants):\n",
    "   for constraint_ref, constraint_analysis in score_analysis.constraint_map.items():\n",
    "      constraint_id = constraint_ref.constraint_id\n",
    "      score_per_constraint = constraint_analysis.score\n",
    "      print(constraint_id, score_per_constraint)"
   ],
   "metadata": {
    "collapsed": false,
    "ExecuteTime": {
     "end_time": "2024-11-03T10:42:49.211707063Z",
     "start_time": "2024-11-03T10:42:49.209860106Z"
    }
   },
   "id": "5f3a09e4e385b06",
   "execution_count": 11
  }
 ],
 "metadata": {
  "kernelspec": {
   "display_name": "Python 3",
   "language": "python",
   "name": "python3"
  },
  "language_info": {
   "codemirror_mode": {
    "name": "ipython",
    "version": 2
   },
   "file_extension": ".py",
   "mimetype": "text/x-python",
   "name": "python",
   "nbconvert_exporter": "python",
   "pygments_lexer": "ipython2",
   "version": "2.7.6"
  }
 },
 "nbformat": 4,
 "nbformat_minor": 5
}
