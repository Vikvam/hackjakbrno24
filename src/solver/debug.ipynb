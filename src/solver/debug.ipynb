{
 "cells": [
  {
   "cell_type": "code",
   "outputs": [],
   "source": [
    "%load_ext autoreload\n",
    "%autoreload 2\n",
    "\n",
    "from src.solver.main import doctors_mock\n",
    "from src.solver.solution import *"
   ],
   "metadata": {
    "collapsed": false,
    "ExecuteTime": {
     "end_time": "2024-11-02T19:22:32.357256492Z",
     "start_time": "2024-11-02T19:22:29.251295397Z"
    }
   },
   "id": "e2e9ae1683075eec",
   "execution_count": 1
  },
  {
   "cell_type": "code",
   "execution_count": 2,
   "id": "initial_id",
   "metadata": {
    "collapsed": true,
    "ExecuteTime": {
     "end_time": "2024-11-02T19:22:32.376506375Z",
     "start_time": "2024-11-02T19:22:32.361813144Z"
    }
   },
   "outputs": [],
   "source": [
    "doctors, doctor_shifts, doctor_assignments = doctors_mock()"
   ]
  },
  {
   "cell_type": "code",
   "outputs": [],
   "source": [
    "problem = ShiftsSchedule(doctors, doctor_shifts, doctor_assignments)"
   ],
   "metadata": {
    "collapsed": false,
    "ExecuteTime": {
     "end_time": "2024-11-02T19:22:32.440599399Z",
     "start_time": "2024-11-02T19:22:32.380408900Z"
    }
   },
   "id": "afad0be0d4d4ebbc",
   "execution_count": 3
  },
  {
   "cell_type": "code",
   "outputs": [
    {
     "name": "stdout",
     "output_type": "stream",
     "text": [
      "ShiftSchedule(assignments=207, employees=10, shifts=144, score=-9400hard/0medium/0soft)\n"
     ]
    }
   ],
   "source": [
    "solution, score_analysis = solve(problem)\n",
    "print(solution)"
   ],
   "metadata": {
    "collapsed": false,
    "ExecuteTime": {
     "end_time": "2024-11-02T19:24:33.363210052Z",
     "start_time": "2024-11-02T19:22:32.392257627Z"
    }
   },
   "id": "1f9e6c669b9610d3",
   "execution_count": 4
  },
  {
   "cell_type": "code",
   "outputs": [
    {
     "data": {
      "text/plain": "ShiftSchedule(assignments=207, employees=10, shifts=144, score=-9400hard/0medium/0soft)"
     },
     "execution_count": 5,
     "metadata": {},
     "output_type": "execute_result"
    }
   ],
   "source": [
    "solution"
   ],
   "metadata": {
    "collapsed": false,
    "ExecuteTime": {
     "end_time": "2024-11-02T19:24:33.789152344Z",
     "start_time": "2024-11-02T19:24:33.360763792Z"
    }
   },
   "id": "92d0eb837f7e9742",
   "execution_count": 5
  },
  {
   "cell_type": "code",
   "outputs": [
    {
     "data": {
      "text/plain": "'Explanation of score (-9400hard/0medium/0soft):\\n    Constraint matches:\\n        -8400hard: constraint (no_overlaping_shifts) has 84 matches:\\n            -100hard: justified with ([<a1a545e9-6a1c-4d01-964d-f921c099be4e, Doc4, Shift@119512187>, <b1517f38-3ac0-4067-95f0-58294c84a3c2, Doc4, Shift@119512187>])\\n            -100hard: justified with ([<62294592-9571-47ae-b7eb-8822835526b6, Doc4, Shift@119512187>, <b1517f38-3ac0-4067-95f0-58294c84a3c2, Doc4, Shift@119512187>])\\n            -100hard: justified with ([<62294592-9571-47ae-b7eb-8822835526b6, Doc4, Shift@119512187>, <a1a545e9-6a1c-4d01-964d-f921c099be4e, Doc4, Shift@119512187>])\\n            ...\\n        -1000hard: constraint (at_least_36h_rest_weekly) has 10 matches:\\n            -100hard: justified with ([Doc1, 45, [<0c2cf36a-5d66-40cd-98b3-8bc67f58110b, Doc1, Shift@940600260>, <5e875b62-c086-442f-9394-4ae2a67da5dd, Doc1, Shift@1411172927>, <766acbb1-220e-4a96-b492-ac30d3c5942f, Doc1, Shift@1411172927>, <33d5ca57-bba8-4c7c-936a-bd8c6e2d8615, Doc1, Shift@1956729212>, <94f1c5ee-85b5-46e3-9c41-a630b4769c4c, Doc1, Shift@455430043>]])\\n            -100hard: justified with ([Doc2, 45, [<54b025f4-a766-459a-b679-78a839fb04d9, Doc2, Shift@19483086>, <8fc08259-1697-40e1-8ae4-ee560c9c8ef1, Doc2, Shift@1840394190>, <6c67820b-7b56-4863-815c-b1e949702af0, Doc2, Shift@936024161>, <69c37312-ec93-4dd5-baa7-f7c1847c7b91, Doc2, Shift@936024161>, <de4ec766-c73e-4959-94c7-e49cf9bf59f6, Doc2, Shift@936024161>, <9cccbbe4-0b6c-437e-9626-c4988d0c406c, Doc2, Shift@1196629425>]])\\n            -100hard: justified with ([Doc3, 45, [<cb911d02-e6a9-43ff-8821-043f08edd65b, Doc3, Shift@1219349215>, <ed3cd02a-01fb-4b09-99d4-693cce110c26, Doc3, Shift@1513137078>, <ca1d1e8a-2293-4694-afaa-d9b4b8017376, Doc3, Shift@1088740775>, <3ada2b52-4772-4fa6-8ef7-b582977299e2, Doc3, Shift@1088740775>, <df302df0-e16d-4e91-922d-6381001084e4, Doc3, Shift@1486384492>]])\\n            ...\\n        0: constraint (at_least_12h_rest) has no matches.\\n'"
     },
     "execution_count": 6,
     "metadata": {},
     "output_type": "execute_result"
    }
   ],
   "source": [
    "score_analysis.summary"
   ],
   "metadata": {
    "collapsed": false,
    "ExecuteTime": {
     "end_time": "2024-11-02T19:24:33.872044577Z",
     "start_time": "2024-11-02T19:24:33.791100024Z"
    }
   },
   "id": "7553348c9f6b90eb",
   "execution_count": 6
  }
 ],
 "metadata": {
  "kernelspec": {
   "display_name": "Python 3",
   "language": "python",
   "name": "python3"
  },
  "language_info": {
   "codemirror_mode": {
    "name": "ipython",
    "version": 2
   },
   "file_extension": ".py",
   "mimetype": "text/x-python",
   "name": "python",
   "nbconvert_exporter": "python",
   "pygments_lexer": "ipython2",
   "version": "2.7.6"
  }
 },
 "nbformat": 4,
 "nbformat_minor": 5
}
