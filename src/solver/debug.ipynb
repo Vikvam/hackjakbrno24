{
 "cells": [
  {
   "cell_type": "code",
   "outputs": [],
   "source": [
    "%load_ext autoreload\n",
    "%autoreload 2\n",
    "\n",
    "from src.solver.src.mock import *\n",
    "from src.solver.src.solution import *\n",
    "from src.solver.src.serialize import *"
   ],
   "metadata": {
    "collapsed": false,
    "ExecuteTime": {
     "end_time": "2024-11-03T09:22:33.981584619Z",
     "start_time": "2024-11-03T09:22:29.803454646Z"
    }
   },
   "id": "e2e9ae1683075eec",
   "execution_count": 1
  },
  {
   "cell_type": "code",
   "outputs": [],
   "source": [
    "problem_doctors = ShiftsSchedule(*problem_mock_doctors(2024, 11, seed=42, type=\"weekly\"))\n",
    "problem_nurses = ShiftsSchedule(*problem_mock_nurses(2024, 11, seed=42, type=\"weekly\"))\n",
    "problem_rtg_assistants = ShiftsSchedule(*problem_mock_rtg_assistants(2024, 11, seed=42, type=\"weekly\"))"
   ],
   "metadata": {
    "collapsed": false,
    "ExecuteTime": {
     "end_time": "2024-11-03T09:35:41.486940935Z",
     "start_time": "2024-11-03T09:35:41.445907635Z"
    }
   },
   "id": "afad0be0d4d4ebbc",
   "execution_count": 21
  },
  {
   "cell_type": "code",
   "outputs": [],
   "source": [
    "solution_doctors, score_analysis_doctors = solve(problem_doctors, spent_limit=Duration(minutes=20, seconds=30))\n",
    "with open(f\"doctors.{score_analysis_doctors.score.hard_score}.solution.json\", \"w\") as f:\n",
    "   f.write(serialize_result(solution_doctors, score_analysis_doctors))"
   ],
   "metadata": {
    "collapsed": false,
    "ExecuteTime": {
     "end_time": "2024-11-03T09:29:16.848680331Z",
     "start_time": "2024-11-03T09:29:15.546332896Z"
    }
   },
   "id": "1f9e6c669b9610d3",
   "execution_count": 10
  },
  {
   "cell_type": "code",
   "outputs": [
    {
     "ename": "KeyboardInterrupt",
     "evalue": "",
     "output_type": "error",
     "traceback": [
      "\u001B[0;31m---------------------------------------------------------------------------\u001B[0m",
      "\u001B[0;31mKeyboardInterrupt\u001B[0m                         Traceback (most recent call last)",
      "Cell \u001B[0;32mIn[23], line 1\u001B[0m\n\u001B[0;32m----> 1\u001B[0m solution_nurses, score_analysis_nurses \u001B[38;5;241m=\u001B[39m \u001B[43msolve\u001B[49m\u001B[43m(\u001B[49m\u001B[43mproblem_nurses\u001B[49m\u001B[43m,\u001B[49m\u001B[43m \u001B[49m\u001B[43mspent_limit\u001B[49m\u001B[38;5;241;43m=\u001B[39;49m\u001B[43mDuration\u001B[49m\u001B[43m(\u001B[49m\u001B[43mminutes\u001B[49m\u001B[38;5;241;43m=\u001B[39;49m\u001B[38;5;241;43m20\u001B[39;49m\u001B[43m,\u001B[49m\u001B[43m \u001B[49m\u001B[43mseconds\u001B[49m\u001B[38;5;241;43m=\u001B[39;49m\u001B[38;5;241;43m30\u001B[39;49m\u001B[43m)\u001B[49m\u001B[43m)\u001B[49m\n\u001B[1;32m      2\u001B[0m \u001B[38;5;28;01mwith\u001B[39;00m \u001B[38;5;28mopen\u001B[39m(\u001B[38;5;124mf\u001B[39m\u001B[38;5;124m\"\u001B[39m\u001B[38;5;124mnurses.\u001B[39m\u001B[38;5;132;01m{\u001B[39;00mscore_analysis_nurses\u001B[38;5;241m.\u001B[39mscore\u001B[38;5;241m.\u001B[39mhard_score\u001B[38;5;132;01m}\u001B[39;00m\u001B[38;5;124m.solution.json\u001B[39m\u001B[38;5;124m\"\u001B[39m, \u001B[38;5;124m\"\u001B[39m\u001B[38;5;124mw\u001B[39m\u001B[38;5;124m\"\u001B[39m) \u001B[38;5;28;01mas\u001B[39;00m f:\n\u001B[1;32m      3\u001B[0m    f\u001B[38;5;241m.\u001B[39mwrite(serialize_result(solution_nurses, score_analysis_nurses))\n",
      "File \u001B[0;32m~/Documents/Soutěže a konference/hackjakbrno24/src/solver/src/solution.py:36\u001B[0m, in \u001B[0;36msolve\u001B[0;34m(problem, spent_limit)\u001B[0m\n\u001B[1;32m     34\u001B[0m \u001B[38;5;66;03m# Build and run solver\u001B[39;00m\n\u001B[1;32m     35\u001B[0m solver \u001B[38;5;241m=\u001B[39m solver_factory\u001B[38;5;241m.\u001B[39mbuild_solver()\n\u001B[0;32m---> 36\u001B[0m solution \u001B[38;5;241m=\u001B[39m \u001B[43msolver\u001B[49m\u001B[38;5;241;43m.\u001B[39;49m\u001B[43msolve\u001B[49m\u001B[43m(\u001B[49m\u001B[43mproblem\u001B[49m\u001B[43m)\u001B[49m\n\u001B[1;32m     38\u001B[0m \u001B[38;5;66;03m# Explain solution\u001B[39;00m\n\u001B[1;32m     39\u001B[0m score_analysis \u001B[38;5;241m=\u001B[39m solution_manager\u001B[38;5;241m.\u001B[39manalyze(solution)\n",
      "File \u001B[0;32m~/.venvs/hackjakbrno24-o08ELfgh/lib/python3.10/site-packages/timefold/solver/_solver.py:109\u001B[0m, in \u001B[0;36mSolver.solve\u001B[0;34m(self, problem)\u001B[0m\n\u001B[1;32m    107\u001B[0m update_log_level()\n\u001B[1;32m    108\u001B[0m \u001B[38;5;28;01mtry\u001B[39;00m:\n\u001B[0;32m--> 109\u001B[0m     java_solution \u001B[38;5;241m=\u001B[39m \u001B[38;5;28;43mself\u001B[39;49m\u001B[38;5;241;43m.\u001B[39;49m\u001B[43m_delegate\u001B[49m\u001B[38;5;241;43m.\u001B[39;49m\u001B[43msolve\u001B[49m\u001B[43m(\u001B[49m\u001B[43mjava_problem\u001B[49m\u001B[43m)\u001B[49m\n\u001B[1;32m    110\u001B[0m \u001B[38;5;28;01mexcept\u001B[39;00m PythonBaseException \u001B[38;5;28;01mas\u001B[39;00m e:\n\u001B[1;32m    111\u001B[0m     \u001B[38;5;28;01mraise\u001B[39;00m unwrap_python_like_object(e)\n",
      "File \u001B[0;32m~/.venvs/hackjakbrno24-o08ELfgh/lib/python3.10/site-packages/_jpyinterpreter/conversions.py:740\u001B[0m, in \u001B[0;36mupdate_python_object_from_java\u001B[0;34m(java_object, clone_map)\u001B[0m\n\u001B[1;32m    737\u001B[0m     clone_map \u001B[38;5;241m=\u001B[39m PythonCloneMap(IdentityHashMap(), \u001B[38;5;28mdict\u001B[39m())\n\u001B[1;32m    739\u001B[0m \u001B[38;5;28;01mtry\u001B[39;00m:\n\u001B[0;32m--> 740\u001B[0m     \u001B[38;5;28;43mgetattr\u001B[39;49m\u001B[43m(\u001B[49m\u001B[43mjava_object\u001B[49m\u001B[43m,\u001B[49m\u001B[43m \u001B[49m\u001B[38;5;124;43m'\u001B[39;49m\u001B[38;5;124;43m$writeFieldsToCPythonReference\u001B[39;49m\u001B[38;5;124;43m'\u001B[39;49m\u001B[43m)\u001B[49m\u001B[43m(\u001B[49m\u001B[43mJProxy\u001B[49m\u001B[43m(\u001B[49m\u001B[43mOpaquePythonReference\u001B[49m\u001B[43m,\u001B[49m\n\u001B[1;32m    741\u001B[0m \u001B[43m                                                                  \u001B[49m\u001B[43minst\u001B[49m\u001B[38;5;241;43m=\u001B[39;49m\u001B[43mclone_map\u001B[49m\u001B[43m,\u001B[49m\n\u001B[1;32m    742\u001B[0m \u001B[43m                                                                  \u001B[49m\u001B[43mconvert\u001B[49m\u001B[38;5;241;43m=\u001B[39;49m\u001B[38;5;28;43;01mTrue\u001B[39;49;00m\u001B[43m)\u001B[49m\u001B[43m)\u001B[49m\n\u001B[1;32m    743\u001B[0m \u001B[38;5;28;01mexcept\u001B[39;00m \u001B[38;5;167;01mTypeError\u001B[39;00m:\n\u001B[1;32m    744\u001B[0m     \u001B[38;5;66;03m# The Python Object is immutable; so no changes from Java\u001B[39;00m\n\u001B[1;32m    745\u001B[0m     \u001B[38;5;28;01mpass\u001B[39;00m\n",
      "File \u001B[0;32m~/.venvs/hackjakbrno24-o08ELfgh/lib/python3.10/site-packages/_jpyinterpreter/conversions.py:740\u001B[0m, in \u001B[0;36mupdate_python_object_from_java\u001B[0;34m(java_object, clone_map)\u001B[0m\n\u001B[1;32m    737\u001B[0m     clone_map \u001B[38;5;241m=\u001B[39m PythonCloneMap(IdentityHashMap(), \u001B[38;5;28mdict\u001B[39m())\n\u001B[1;32m    739\u001B[0m \u001B[38;5;28;01mtry\u001B[39;00m:\n\u001B[0;32m--> 740\u001B[0m     \u001B[38;5;28;43mgetattr\u001B[39;49m\u001B[43m(\u001B[49m\u001B[43mjava_object\u001B[49m\u001B[43m,\u001B[49m\u001B[43m \u001B[49m\u001B[38;5;124;43m'\u001B[39;49m\u001B[38;5;124;43m$writeFieldsToCPythonReference\u001B[39;49m\u001B[38;5;124;43m'\u001B[39;49m\u001B[43m)\u001B[49m\u001B[43m(\u001B[49m\u001B[43mJProxy\u001B[49m\u001B[43m(\u001B[49m\u001B[43mOpaquePythonReference\u001B[49m\u001B[43m,\u001B[49m\n\u001B[1;32m    741\u001B[0m \u001B[43m                                                                  \u001B[49m\u001B[43minst\u001B[49m\u001B[38;5;241;43m=\u001B[39;49m\u001B[43mclone_map\u001B[49m\u001B[43m,\u001B[49m\n\u001B[1;32m    742\u001B[0m \u001B[43m                                                                  \u001B[49m\u001B[43mconvert\u001B[49m\u001B[38;5;241;43m=\u001B[39;49m\u001B[38;5;28;43;01mTrue\u001B[39;49;00m\u001B[43m)\u001B[49m\u001B[43m)\u001B[49m\n\u001B[1;32m    743\u001B[0m \u001B[38;5;28;01mexcept\u001B[39;00m \u001B[38;5;167;01mTypeError\u001B[39;00m:\n\u001B[1;32m    744\u001B[0m     \u001B[38;5;66;03m# The Python Object is immutable; so no changes from Java\u001B[39;00m\n\u001B[1;32m    745\u001B[0m     \u001B[38;5;28;01mpass\u001B[39;00m\n",
      "\u001B[0;31mKeyboardInterrupt\u001B[0m: "
     ]
    }
   ],
   "source": [
    "solution_nurses, score_analysis_nurses = solve(problem_nurses, spent_limit=Duration(minutes=20, seconds=30))\n",
    "with open(f\"nurses.{score_analysis_nurses.score.hard_score}.solution.json\", \"w\") as f:\n",
    "   f.write(serialize_result(solution_nurses, score_analysis_nurses))"
   ],
   "metadata": {
    "collapsed": false,
    "ExecuteTime": {
     "end_time": "2024-11-03T09:45:00.914206940Z",
     "start_time": "2024-11-03T09:42:09.366783371Z"
    }
   },
   "id": "92d0eb837f7e9742",
   "execution_count": 23
  },
  {
   "cell_type": "code",
   "outputs": [
    {
     "ename": "KeyboardInterrupt",
     "evalue": "",
     "output_type": "error",
     "traceback": [
      "\u001B[0;31m---------------------------------------------------------------------------\u001B[0m",
      "\u001B[0;31mKeyboardInterrupt\u001B[0m                         Traceback (most recent call last)",
      "Cell \u001B[0;32mIn[24], line 1\u001B[0m\n\u001B[0;32m----> 1\u001B[0m solution_rtg_assistants, score_analysis_rtg_assistants \u001B[38;5;241m=\u001B[39m \u001B[43msolve\u001B[49m\u001B[43m(\u001B[49m\u001B[43mproblem_rtg_assistants\u001B[49m\u001B[43m,\u001B[49m\u001B[43m \u001B[49m\u001B[43mspent_limit\u001B[49m\u001B[38;5;241;43m=\u001B[39;49m\u001B[43mDuration\u001B[49m\u001B[43m(\u001B[49m\u001B[43mminutes\u001B[49m\u001B[38;5;241;43m=\u001B[39;49m\u001B[38;5;241;43m20\u001B[39;49m\u001B[43m,\u001B[49m\u001B[43m \u001B[49m\u001B[43mseconds\u001B[49m\u001B[38;5;241;43m=\u001B[39;49m\u001B[38;5;241;43m30\u001B[39;49m\u001B[43m)\u001B[49m\u001B[43m)\u001B[49m\n\u001B[1;32m      2\u001B[0m \u001B[38;5;28;01mwith\u001B[39;00m \u001B[38;5;28mopen\u001B[39m(\u001B[38;5;124mf\u001B[39m\u001B[38;5;124m\"\u001B[39m\u001B[38;5;124mrtg_assistants.\u001B[39m\u001B[38;5;132;01m{\u001B[39;00mscore_analysis_rtg_assistants\u001B[38;5;241m.\u001B[39mscore\u001B[38;5;241m.\u001B[39mhard_score\u001B[38;5;132;01m}\u001B[39;00m\u001B[38;5;124m.solution.json\u001B[39m\u001B[38;5;124m\"\u001B[39m, \u001B[38;5;124m\"\u001B[39m\u001B[38;5;124mw\u001B[39m\u001B[38;5;124m\"\u001B[39m) \u001B[38;5;28;01mas\u001B[39;00m f:\n\u001B[1;32m      3\u001B[0m    f\u001B[38;5;241m.\u001B[39mwrite(serialize_result(solution_rtg_assistants, score_analysis_rtg_assistants))\n",
      "File \u001B[0;32m~/Documents/Soutěže a konference/hackjakbrno24/src/solver/src/solution.py:36\u001B[0m, in \u001B[0;36msolve\u001B[0;34m(problem, spent_limit)\u001B[0m\n\u001B[1;32m     34\u001B[0m \u001B[38;5;66;03m# Build and run solver\u001B[39;00m\n\u001B[1;32m     35\u001B[0m solver \u001B[38;5;241m=\u001B[39m solver_factory\u001B[38;5;241m.\u001B[39mbuild_solver()\n\u001B[0;32m---> 36\u001B[0m solution \u001B[38;5;241m=\u001B[39m \u001B[43msolver\u001B[49m\u001B[38;5;241;43m.\u001B[39;49m\u001B[43msolve\u001B[49m\u001B[43m(\u001B[49m\u001B[43mproblem\u001B[49m\u001B[43m)\u001B[49m\n\u001B[1;32m     38\u001B[0m \u001B[38;5;66;03m# Explain solution\u001B[39;00m\n\u001B[1;32m     39\u001B[0m score_analysis \u001B[38;5;241m=\u001B[39m solution_manager\u001B[38;5;241m.\u001B[39manalyze(solution)\n",
      "File \u001B[0;32m~/.venvs/hackjakbrno24-o08ELfgh/lib/python3.10/site-packages/timefold/solver/_solver.py:109\u001B[0m, in \u001B[0;36mSolver.solve\u001B[0;34m(self, problem)\u001B[0m\n\u001B[1;32m    107\u001B[0m update_log_level()\n\u001B[1;32m    108\u001B[0m \u001B[38;5;28;01mtry\u001B[39;00m:\n\u001B[0;32m--> 109\u001B[0m     java_solution \u001B[38;5;241m=\u001B[39m \u001B[38;5;28;43mself\u001B[39;49m\u001B[38;5;241;43m.\u001B[39;49m\u001B[43m_delegate\u001B[49m\u001B[38;5;241;43m.\u001B[39;49m\u001B[43msolve\u001B[49m\u001B[43m(\u001B[49m\u001B[43mjava_problem\u001B[49m\u001B[43m)\u001B[49m\n\u001B[1;32m    110\u001B[0m \u001B[38;5;28;01mexcept\u001B[39;00m PythonBaseException \u001B[38;5;28;01mas\u001B[39;00m e:\n\u001B[1;32m    111\u001B[0m     \u001B[38;5;28;01mraise\u001B[39;00m unwrap_python_like_object(e)\n",
      "File \u001B[0;32m~/.venvs/hackjakbrno24-o08ELfgh/lib/python3.10/site-packages/_jpyinterpreter/conversions.py:740\u001B[0m, in \u001B[0;36mupdate_python_object_from_java\u001B[0;34m(java_object, clone_map)\u001B[0m\n\u001B[1;32m    737\u001B[0m     clone_map \u001B[38;5;241m=\u001B[39m PythonCloneMap(IdentityHashMap(), \u001B[38;5;28mdict\u001B[39m())\n\u001B[1;32m    739\u001B[0m \u001B[38;5;28;01mtry\u001B[39;00m:\n\u001B[0;32m--> 740\u001B[0m     \u001B[38;5;28;43mgetattr\u001B[39;49m\u001B[43m(\u001B[49m\u001B[43mjava_object\u001B[49m\u001B[43m,\u001B[49m\u001B[43m \u001B[49m\u001B[38;5;124;43m'\u001B[39;49m\u001B[38;5;124;43m$writeFieldsToCPythonReference\u001B[39;49m\u001B[38;5;124;43m'\u001B[39;49m\u001B[43m)\u001B[49m\u001B[43m(\u001B[49m\u001B[43mJProxy\u001B[49m\u001B[43m(\u001B[49m\u001B[43mOpaquePythonReference\u001B[49m\u001B[43m,\u001B[49m\n\u001B[1;32m    741\u001B[0m \u001B[43m                                                                  \u001B[49m\u001B[43minst\u001B[49m\u001B[38;5;241;43m=\u001B[39;49m\u001B[43mclone_map\u001B[49m\u001B[43m,\u001B[49m\n\u001B[1;32m    742\u001B[0m \u001B[43m                                                                  \u001B[49m\u001B[43mconvert\u001B[49m\u001B[38;5;241;43m=\u001B[39;49m\u001B[38;5;28;43;01mTrue\u001B[39;49;00m\u001B[43m)\u001B[49m\u001B[43m)\u001B[49m\n\u001B[1;32m    743\u001B[0m \u001B[38;5;28;01mexcept\u001B[39;00m \u001B[38;5;167;01mTypeError\u001B[39;00m:\n\u001B[1;32m    744\u001B[0m     \u001B[38;5;66;03m# The Python Object is immutable; so no changes from Java\u001B[39;00m\n\u001B[1;32m    745\u001B[0m     \u001B[38;5;28;01mpass\u001B[39;00m\n",
      "File \u001B[0;32m~/.venvs/hackjakbrno24-o08ELfgh/lib/python3.10/site-packages/_jpyinterpreter/conversions.py:740\u001B[0m, in \u001B[0;36mupdate_python_object_from_java\u001B[0;34m(java_object, clone_map)\u001B[0m\n\u001B[1;32m    737\u001B[0m     clone_map \u001B[38;5;241m=\u001B[39m PythonCloneMap(IdentityHashMap(), \u001B[38;5;28mdict\u001B[39m())\n\u001B[1;32m    739\u001B[0m \u001B[38;5;28;01mtry\u001B[39;00m:\n\u001B[0;32m--> 740\u001B[0m     \u001B[38;5;28;43mgetattr\u001B[39;49m\u001B[43m(\u001B[49m\u001B[43mjava_object\u001B[49m\u001B[43m,\u001B[49m\u001B[43m \u001B[49m\u001B[38;5;124;43m'\u001B[39;49m\u001B[38;5;124;43m$writeFieldsToCPythonReference\u001B[39;49m\u001B[38;5;124;43m'\u001B[39;49m\u001B[43m)\u001B[49m\u001B[43m(\u001B[49m\u001B[43mJProxy\u001B[49m\u001B[43m(\u001B[49m\u001B[43mOpaquePythonReference\u001B[49m\u001B[43m,\u001B[49m\n\u001B[1;32m    741\u001B[0m \u001B[43m                                                                  \u001B[49m\u001B[43minst\u001B[49m\u001B[38;5;241;43m=\u001B[39;49m\u001B[43mclone_map\u001B[49m\u001B[43m,\u001B[49m\n\u001B[1;32m    742\u001B[0m \u001B[43m                                                                  \u001B[49m\u001B[43mconvert\u001B[49m\u001B[38;5;241;43m=\u001B[39;49m\u001B[38;5;28;43;01mTrue\u001B[39;49;00m\u001B[43m)\u001B[49m\u001B[43m)\u001B[49m\n\u001B[1;32m    743\u001B[0m \u001B[38;5;28;01mexcept\u001B[39;00m \u001B[38;5;167;01mTypeError\u001B[39;00m:\n\u001B[1;32m    744\u001B[0m     \u001B[38;5;66;03m# The Python Object is immutable; so no changes from Java\u001B[39;00m\n\u001B[1;32m    745\u001B[0m     \u001B[38;5;28;01mpass\u001B[39;00m\n",
      "    \u001B[0;31m[... skipping similar frames: update_python_object_from_java at line 740 (2 times)]\u001B[0m\n",
      "File \u001B[0;32m~/.venvs/hackjakbrno24-o08ELfgh/lib/python3.10/site-packages/_jpyinterpreter/conversions.py:740\u001B[0m, in \u001B[0;36mupdate_python_object_from_java\u001B[0;34m(java_object, clone_map)\u001B[0m\n\u001B[1;32m    737\u001B[0m     clone_map \u001B[38;5;241m=\u001B[39m PythonCloneMap(IdentityHashMap(), \u001B[38;5;28mdict\u001B[39m())\n\u001B[1;32m    739\u001B[0m \u001B[38;5;28;01mtry\u001B[39;00m:\n\u001B[0;32m--> 740\u001B[0m     \u001B[38;5;28;43mgetattr\u001B[39;49m\u001B[43m(\u001B[49m\u001B[43mjava_object\u001B[49m\u001B[43m,\u001B[49m\u001B[43m \u001B[49m\u001B[38;5;124;43m'\u001B[39;49m\u001B[38;5;124;43m$writeFieldsToCPythonReference\u001B[39;49m\u001B[38;5;124;43m'\u001B[39;49m\u001B[43m)\u001B[49m\u001B[43m(\u001B[49m\u001B[43mJProxy\u001B[49m\u001B[43m(\u001B[49m\u001B[43mOpaquePythonReference\u001B[49m\u001B[43m,\u001B[49m\n\u001B[1;32m    741\u001B[0m \u001B[43m                                                                  \u001B[49m\u001B[43minst\u001B[49m\u001B[38;5;241;43m=\u001B[39;49m\u001B[43mclone_map\u001B[49m\u001B[43m,\u001B[49m\n\u001B[1;32m    742\u001B[0m \u001B[43m                                                                  \u001B[49m\u001B[43mconvert\u001B[49m\u001B[38;5;241;43m=\u001B[39;49m\u001B[38;5;28;43;01mTrue\u001B[39;49;00m\u001B[43m)\u001B[49m\u001B[43m)\u001B[49m\n\u001B[1;32m    743\u001B[0m \u001B[38;5;28;01mexcept\u001B[39;00m \u001B[38;5;167;01mTypeError\u001B[39;00m:\n\u001B[1;32m    744\u001B[0m     \u001B[38;5;66;03m# The Python Object is immutable; so no changes from Java\u001B[39;00m\n\u001B[1;32m    745\u001B[0m     \u001B[38;5;28;01mpass\u001B[39;00m\n",
      "\u001B[0;31mKeyboardInterrupt\u001B[0m: "
     ]
    }
   ],
   "source": [
    "solution_rtg_assistants, score_analysis_rtg_assistants = solve(problem_rtg_assistants, spent_limit=Duration(minutes=20, seconds=30))\n",
    "with open(f\"rtg_assistants.{score_analysis_rtg_assistants.score.hard_score}.solution.json\", \"w\") as f:\n",
    "   f.write(serialize_result(solution_rtg_assistants, score_analysis_rtg_assistants))"
   ],
   "metadata": {
    "collapsed": false,
    "ExecuteTime": {
     "end_time": "2024-11-03T09:45:16.101989762Z",
     "start_time": "2024-11-03T09:45:14.113017478Z"
    }
   },
   "id": "51aab91b86b327f0",
   "execution_count": 24
  },
  {
   "cell_type": "code",
   "outputs": [
    {
     "ename": "NameError",
     "evalue": "name 'score_analysis_rtg_assistants' is not defined",
     "output_type": "error",
     "traceback": [
      "\u001B[0;31m---------------------------------------------------------------------------\u001B[0m",
      "\u001B[0;31mNameError\u001B[0m                                 Traceback (most recent call last)",
      "Cell \u001B[0;32mIn[18], line 1\u001B[0m\n\u001B[0;32m----> 1\u001B[0m \u001B[38;5;28;01mfor\u001B[39;00m score_analysis \u001B[38;5;129;01min\u001B[39;00m (score_analysis_doctors, score_analysis_nurses, \u001B[43mscore_analysis_rtg_assistants\u001B[49m):\n\u001B[1;32m      2\u001B[0m    \u001B[38;5;28;01mfor\u001B[39;00m constraint_ref, constraint_analysis \u001B[38;5;129;01min\u001B[39;00m score_analysis\u001B[38;5;241m.\u001B[39mconstraint_map\u001B[38;5;241m.\u001B[39mitems():\n\u001B[1;32m      3\u001B[0m       constraint_id \u001B[38;5;241m=\u001B[39m constraint_ref\u001B[38;5;241m.\u001B[39mconstraint_id\n",
      "\u001B[0;31mNameError\u001B[0m: name 'score_analysis_rtg_assistants' is not defined"
     ]
    }
   ],
   "source": [
    "for score_analysis in (score_analysis_doctors, score_analysis_nurses, score_analysis_rtg_assistants):\n",
    "   for constraint_ref, constraint_analysis in score_analysis.constraint_map.items():\n",
    "      constraint_id = constraint_ref.constraint_id\n",
    "      score_per_constraint = constraint_analysis.score\n",
    "      print(constraint_id, score_per_constraint)"
   ],
   "metadata": {
    "collapsed": false,
    "ExecuteTime": {
     "end_time": "2024-11-03T09:35:00.869310317Z",
     "start_time": "2024-11-03T09:35:00.812466713Z"
    }
   },
   "id": "5f3a09e4e385b06",
   "execution_count": 18
  },
  {
   "cell_type": "code",
   "outputs": [],
   "source": [],
   "metadata": {
    "collapsed": false,
    "ExecuteTime": {
     "start_time": "2024-11-03T09:14:57.776750432Z"
    }
   },
   "id": "76b1756dff250d60",
   "execution_count": null
  },
  {
   "cell_type": "code",
   "outputs": [],
   "source": [],
   "metadata": {
    "collapsed": false,
    "ExecuteTime": {
     "start_time": "2024-11-03T07:24:14.272824854Z"
    }
   },
   "id": "f6016bdf5f798a9d"
  },
  {
   "cell_type": "code",
   "outputs": [],
   "source": [],
   "metadata": {
    "collapsed": false
   },
   "id": "fb0a8bad90adf668"
  }
 ],
 "metadata": {
  "kernelspec": {
   "display_name": "Python 3",
   "language": "python",
   "name": "python3"
  },
  "language_info": {
   "codemirror_mode": {
    "name": "ipython",
    "version": 2
   },
   "file_extension": ".py",
   "mimetype": "text/x-python",
   "name": "python",
   "nbconvert_exporter": "python",
   "pygments_lexer": "ipython2",
   "version": "2.7.6"
  }
 },
 "nbformat": 4,
 "nbformat_minor": 5
}
