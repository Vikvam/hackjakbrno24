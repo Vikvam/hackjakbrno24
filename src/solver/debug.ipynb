{
 "cells": [
  {
   "cell_type": "code",
   "outputs": [],
   "source": [
    "%load_ext autoreload\n",
    "%autoreload 2\n",
    "\n",
    "from src.solver.main import doctors_mock\n",
    "from src.solver.solution import *"
   ],
   "metadata": {
    "collapsed": false,
    "ExecuteTime": {
     "end_time": "2024-11-02T19:22:32.357256492Z",
     "start_time": "2024-11-02T19:22:29.251295397Z"
    }
   },
   "id": "e2e9ae1683075eec",
   "execution_count": 1
  },
  {
   "cell_type": "code",
   "execution_count": 2,
   "id": "initial_id",
   "metadata": {
    "collapsed": true,
    "ExecuteTime": {
     "end_time": "2024-11-02T19:22:32.376506375Z",
     "start_time": "2024-11-02T19:22:32.361813144Z"
    }
   },
   "outputs": [],
   "source": [
    "doctors, doctor_shifts, doctor_assignments = doctors_mock()"
   ]
  },
  {
   "cell_type": "code",
   "outputs": [],
   "source": [
    "problem = ShiftsSchedule(doctors, doctor_shifts, doctor_assignments)"
   ],
   "metadata": {
    "collapsed": false,
    "ExecuteTime": {
     "end_time": "2024-11-02T19:22:32.440599399Z",
     "start_time": "2024-11-02T19:22:32.380408900Z"
    }
   },
   "id": "afad0be0d4d4ebbc",
   "execution_count": 3
  },
  {
   "cell_type": "code",
   "outputs": [],
   "source": [
    "solution, score_analysis = solve(problem)\n",
    "print(solution)"
   ],
   "metadata": {
    "collapsed": false,
    "is_executing": true,
    "ExecuteTime": {
     "start_time": "2024-11-02T19:22:32.392257627Z"
    }
   },
   "id": "1f9e6c669b9610d3",
   "execution_count": null
  },
  {
   "cell_type": "code",
   "outputs": [],
   "source": [
    "solution"
   ],
   "metadata": {
    "collapsed": false,
    "is_executing": true
   },
   "id": "92d0eb837f7e9742",
   "execution_count": null
  },
  {
   "cell_type": "code",
   "outputs": [],
   "source": [
    "score_analysis.summary"
   ],
   "metadata": {
    "collapsed": false,
    "is_executing": true
   },
   "id": "7553348c9f6b90eb",
   "execution_count": null
  }
 ],
 "metadata": {
  "kernelspec": {
   "display_name": "Python 3",
   "language": "python",
   "name": "python3"
  },
  "language_info": {
   "codemirror_mode": {
    "name": "ipython",
    "version": 2
   },
   "file_extension": ".py",
   "mimetype": "text/x-python",
   "name": "python",
   "nbconvert_exporter": "python",
   "pygments_lexer": "ipython2",
   "version": "2.7.6"
  }
 },
 "nbformat": 4,
 "nbformat_minor": 5
}
