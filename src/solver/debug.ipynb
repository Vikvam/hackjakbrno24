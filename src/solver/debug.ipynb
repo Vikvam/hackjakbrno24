{
 "cells": [
  {
   "cell_type": "code",
   "outputs": [],
   "source": [
    "%load_ext autoreload\n",
    "%autoreload 2\n",
    "\n",
    "from src.solver.main import doctors_mock\n",
    "from src.solver.solution import *"
   ],
   "metadata": {
    "collapsed": false,
    "ExecuteTime": {
     "end_time": "2024-11-02T20:25:47.275591997Z",
     "start_time": "2024-11-02T20:25:43.859297555Z"
    }
   },
   "id": "e2e9ae1683075eec",
   "execution_count": 1
  },
  {
   "cell_type": "code",
   "execution_count": 2,
   "id": "initial_id",
   "metadata": {
    "collapsed": true,
    "ExecuteTime": {
     "end_time": "2024-11-02T20:25:47.361559616Z",
     "start_time": "2024-11-02T20:25:47.317131132Z"
    }
   },
   "outputs": [],
   "source": [
    "doctors, doctor_shifts, doctor_assignments = doctors_mock()"
   ]
  },
  {
   "cell_type": "code",
   "outputs": [],
   "source": [
    "problem = ShiftsSchedule(doctors, doctor_shifts, doctor_assignments)"
   ],
   "metadata": {
    "collapsed": false,
    "ExecuteTime": {
     "end_time": "2024-11-02T20:25:47.376164680Z",
     "start_time": "2024-11-02T20:25:47.364832388Z"
    }
   },
   "id": "afad0be0d4d4ebbc",
   "execution_count": 3
  },
  {
   "cell_type": "code",
   "outputs": [
    {
     "ename": "RuntimeError",
     "evalue": "Traceback (most recent call last):\n  File \"SolverFactory.java\", line 106, in ai.timefold.solver.core.api.solver.SolverFactory.create\nException: Java Exception\n\nThe above exception was the direct cause of the following exception:\n\nTraceback (most recent call last):\n  File \"/home/viki/.venvs/hackjakbrno24-o08ELfgh/lib/python3.10/site-packages/timefold/solver/_timefold_java_interop.py\", line 284, in wrapped_func\n    return func(*args, **kwargs)\n  File \"/home/viki/Documents/Soutěže a konference/hackjakbrno24/src/solver/constraints.py\", line 19, in define_constraints\n    no_overlapping_shifts(constraint_factory),\n  File \"/home/viki/Documents/Soutěže a konference/hackjakbrno24/src/solver/constraints.py\", line 38, in no_overlapping_shifts\n    .for_each_unique_pair(ShiftAssignment,\n  File \"/home/viki/.venvs/hackjakbrno24-o08ELfgh/lib/python3.10/site-packages/timefold/solver/score/_constraint_factory.py\", line 81, in for_each_unique_pair\n    return BiConstraintStream(self.delegate.forEachUniquePair(source_class,\njava.lang.java.lang.IllegalArgumentException: java.lang.IllegalArgumentException: Cannot use class (org.jpyinterpreter.user.src.solver.domain.ShiftAssignment) in a constraint stream as it is neither the same as, nor a superclass or superinterface of one of planning entities or problem facts.\nEnsure that all from(), join(), ifExists() and ifNotExists() building blocks only reference classes assignable from planning entities or problem facts ([org.jpyinterpreter.user.domain.Employee, org.jpyinterpreter.user.domain.Shift, org.jpyinterpreter.user.domain.ShiftAssignment]) annotated on the planning solution (org.jpyinterpreter.user.domain.ShiftsSchedule).\n",
     "output_type": "error",
     "traceback": [
      "\u001B[0;31m---------------------------------------------------------------------------\u001B[0m",
      "\u001B[0;31mException\u001B[0m                                 Traceback (most recent call last)",
      "File \u001B[0;32mSolverFactory.java:106\u001B[0m, in \u001B[0;36mai.timefold.solver.core.api.solver.SolverFactory.create\u001B[0;34m()\u001B[0m\n",
      "\u001B[0;31mException\u001B[0m: Java Exception",
      "\nThe above exception was the direct cause of the following exception:\n",
      "\u001B[0;31mjava.lang.IllegalArgumentException\u001B[0m        Traceback (most recent call last)",
      "File \u001B[0;32m~/.venvs/hackjakbrno24-o08ELfgh/lib/python3.10/site-packages/timefold/solver/_timefold_java_interop.py:284\u001B[0m, in \u001B[0;36mwrap_errors.<locals>.wrapped_func\u001B[0;34m(*args, **kwargs)\u001B[0m\n\u001B[1;32m    283\u001B[0m \u001B[38;5;28;01mtry\u001B[39;00m:\n\u001B[0;32m--> 284\u001B[0m     \u001B[38;5;28;01mreturn\u001B[39;00m \u001B[43mfunc\u001B[49m\u001B[43m(\u001B[49m\u001B[38;5;241;43m*\u001B[39;49m\u001B[43margs\u001B[49m\u001B[43m,\u001B[49m\u001B[43m \u001B[49m\u001B[38;5;241;43m*\u001B[39;49m\u001B[38;5;241;43m*\u001B[39;49m\u001B[43mkwargs\u001B[49m\u001B[43m)\u001B[49m\n\u001B[1;32m    285\u001B[0m \u001B[38;5;28;01mexcept\u001B[39;00m \u001B[38;5;167;01mException\u001B[39;00m \u001B[38;5;28;01mas\u001B[39;00m e:\n",
      "File \u001B[0;32m~/Documents/Soutěže a konference/hackjakbrno24/src/solver/constraints.py:19\u001B[0m, in \u001B[0;36mdefine_constraints\u001B[0;34m(constraint_factory)\u001B[0m\n\u001B[1;32m     16\u001B[0m \u001B[38;5;129m@constraint_provider\u001B[39m\n\u001B[1;32m     17\u001B[0m \u001B[38;5;28;01mdef\u001B[39;00m \u001B[38;5;21mdefine_constraints\u001B[39m(constraint_factory: ConstraintFactory) \u001B[38;5;241m-\u001B[39m\u001B[38;5;241m>\u001B[39m \u001B[38;5;28mlist\u001B[39m[Constraint]:\n\u001B[1;32m     18\u001B[0m     \u001B[38;5;28;01mreturn\u001B[39;00m [\n\u001B[0;32m---> 19\u001B[0m         \u001B[43mno_overlapping_shifts\u001B[49m\u001B[43m(\u001B[49m\u001B[43mconstraint_factory\u001B[49m\u001B[43m)\u001B[49m,\n\u001B[1;32m     20\u001B[0m         at_least_12h_rest(constraint_factory),\n\u001B[1;32m     21\u001B[0m         at_least_36h_rest_weekly(constraint_factory),\n\u001B[1;32m     22\u001B[0m         over_required_shift_amount(constraint_factory),\n\u001B[1;32m     23\u001B[0m         under_required_shift_amount(constraint_factory),\n\u001B[1;32m     24\u001B[0m         \u001B[38;5;66;03m# standard_shift_amount(constraint_factory),\u001B[39;00m\n\u001B[1;32m     25\u001B[0m         \u001B[38;5;66;03m# weekend_shift_amount(constraint_factory),\u001B[39;00m\n\u001B[1;32m     26\u001B[0m         \u001B[38;5;66;03m# fair_shift_amount(constraint_factory),\u001B[39;00m\n\u001B[1;32m     27\u001B[0m         \u001B[38;5;66;03m# fair_shift_type(constraint_factory),\u001B[39;00m\n\u001B[1;32m     28\u001B[0m         availability_impossible(constraint_factory),\n\u001B[1;32m     29\u001B[0m         availability_necessary(constraint_factory),\n\u001B[1;32m     30\u001B[0m         availability_undesired(constraint_factory),\n\u001B[1;32m     31\u001B[0m         availability_desired(constraint_factory),\n\u001B[1;32m     32\u001B[0m     ]\n",
      "File \u001B[0;32m~/Documents/Soutěže a konference/hackjakbrno24/src/solver/constraints.py:38\u001B[0m, in \u001B[0;36mno_overlapping_shifts\u001B[0;34m(constraint_factory)\u001B[0m\n\u001B[1;32m     35\u001B[0m \u001B[38;5;28;01mdef\u001B[39;00m \u001B[38;5;21mno_overlapping_shifts\u001B[39m(constraint_factory: ConstraintFactory) \u001B[38;5;241m-\u001B[39m\u001B[38;5;241m>\u001B[39m Constraint:\n\u001B[1;32m     36\u001B[0m     \u001B[38;5;28;01mreturn\u001B[39;00m (\n\u001B[1;32m     37\u001B[0m         \u001B[43mconstraint_factory\u001B[49m\n\u001B[0;32m---> 38\u001B[0m \u001B[43m        \u001B[49m\u001B[38;5;241;43m.\u001B[39;49m\u001B[43mfor_each_unique_pair\u001B[49m\u001B[43m(\u001B[49m\u001B[43mShiftAssignment\u001B[49m\u001B[43m,\u001B[49m\n\u001B[1;32m     39\u001B[0m \u001B[43m            \u001B[49m\u001B[43mJoiners\u001B[49m\u001B[38;5;241;43m.\u001B[39;49m\u001B[43mequal\u001B[49m\u001B[43m(\u001B[49m\u001B[38;5;28;43;01mlambda\u001B[39;49;00m\u001B[43m \u001B[49m\u001B[43massignment\u001B[49m\u001B[43m:\u001B[49m\u001B[43m \u001B[49m\u001B[43massignment\u001B[49m\u001B[38;5;241;43m.\u001B[39;49m\u001B[43memployee\u001B[49m\u001B[43m)\u001B[49m\u001B[43m,\u001B[49m\n\u001B[1;32m     40\u001B[0m \u001B[43m            \u001B[49m\u001B[43mJoiners\u001B[49m\u001B[38;5;241;43m.\u001B[39;49m\u001B[43moverlapping\u001B[49m\u001B[43m(\u001B[49m\n\u001B[1;32m     41\u001B[0m \u001B[43m                \u001B[49m\u001B[38;5;28;43;01mlambda\u001B[39;49;00m\u001B[43m \u001B[49m\u001B[43massignment\u001B[49m\u001B[43m:\u001B[49m\u001B[43m \u001B[49m\u001B[43massignment\u001B[49m\u001B[38;5;241;43m.\u001B[39;49m\u001B[43mshift\u001B[49m\u001B[38;5;241;43m.\u001B[39;49m\u001B[43mstart_datetime\u001B[49m\u001B[43m,\u001B[49m\n\u001B[1;32m     42\u001B[0m \u001B[43m                \u001B[49m\u001B[38;5;28;43;01mlambda\u001B[39;49;00m\u001B[43m \u001B[49m\u001B[43massignment\u001B[49m\u001B[43m:\u001B[49m\u001B[43m \u001B[49m\u001B[43massignment\u001B[49m\u001B[38;5;241;43m.\u001B[39;49m\u001B[43mshift\u001B[49m\u001B[38;5;241;43m.\u001B[39;49m\u001B[43mend_datetime\u001B[49m\n\u001B[1;32m     43\u001B[0m \u001B[43m            \u001B[49m\u001B[43m)\u001B[49m\n\u001B[1;32m     44\u001B[0m \u001B[43m        \u001B[49m\u001B[43m)\u001B[49m\n\u001B[1;32m     45\u001B[0m         \u001B[38;5;241m.\u001B[39mpenalize(ShiftConstraintConfiguration\u001B[38;5;241m.\u001B[39mis_illegal)\n\u001B[1;32m     46\u001B[0m         \u001B[38;5;241m.\u001B[39mas_constraint(\u001B[38;5;124m\"\u001B[39m\u001B[38;5;124mno_overlaping_shifts\u001B[39m\u001B[38;5;124m\"\u001B[39m)\n\u001B[1;32m     47\u001B[0m     )\n",
      "File \u001B[0;32m~/.venvs/hackjakbrno24-o08ELfgh/lib/python3.10/site-packages/timefold/solver/score/_constraint_factory.py:81\u001B[0m, in \u001B[0;36mConstraintFactory.for_each_unique_pair\u001B[0;34m(self, source_class, *joiners)\u001B[0m\n\u001B[1;32m     80\u001B[0m source_class \u001B[38;5;241m=\u001B[39m get_class(source_class)\n\u001B[0;32m---> 81\u001B[0m \u001B[38;5;28;01mreturn\u001B[39;00m BiConstraintStream(\u001B[38;5;28;43mself\u001B[39;49m\u001B[38;5;241;43m.\u001B[39;49m\u001B[43mdelegate\u001B[49m\u001B[38;5;241;43m.\u001B[39;49m\u001B[43mforEachUniquePair\u001B[49m\u001B[43m(\u001B[49m\u001B[43msource_class\u001B[49m\u001B[43m,\u001B[49m\n\u001B[1;32m     82\u001B[0m \u001B[43m                                                          \u001B[49m\u001B[43mextract_joiners\u001B[49m\u001B[43m(\u001B[49m\u001B[43mjoiners\u001B[49m\u001B[43m,\u001B[49m\u001B[43m \u001B[49m\u001B[43msource_class\u001B[49m\u001B[43m,\u001B[49m\u001B[43m \u001B[49m\u001B[43msource_class\u001B[49m\u001B[43m)\u001B[49m\u001B[43m)\u001B[49m,\n\u001B[1;32m     83\u001B[0m                           \u001B[38;5;28mself\u001B[39m\u001B[38;5;241m.\u001B[39mget_default_constraint_package(),\n\u001B[1;32m     84\u001B[0m                           cast(Type[\u001B[38;5;124m'\u001B[39m\u001B[38;5;124mA_\u001B[39m\u001B[38;5;124m'\u001B[39m], source_class),\n\u001B[1;32m     85\u001B[0m                           cast(Type[\u001B[38;5;124m'\u001B[39m\u001B[38;5;124mA_\u001B[39m\u001B[38;5;124m'\u001B[39m], source_class))\n",
      "\u001B[0;31mjava.lang.IllegalArgumentException\u001B[0m: java.lang.IllegalArgumentException: Cannot use class (org.jpyinterpreter.user.src.solver.domain.ShiftAssignment) in a constraint stream as it is neither the same as, nor a superclass or superinterface of one of planning entities or problem facts.\nEnsure that all from(), join(), ifExists() and ifNotExists() building blocks only reference classes assignable from planning entities or problem facts ([org.jpyinterpreter.user.domain.Employee, org.jpyinterpreter.user.domain.Shift, org.jpyinterpreter.user.domain.ShiftAssignment]) annotated on the planning solution (org.jpyinterpreter.user.domain.ShiftsSchedule).",
      "\nDuring handling of the above exception, another exception occurred:\n",
      "\u001B[0;31mRuntimeError\u001B[0m                              Traceback (most recent call last)",
      "Cell \u001B[0;32mIn[4], line 1\u001B[0m\n\u001B[0;32m----> 1\u001B[0m solution, score_analysis \u001B[38;5;241m=\u001B[39m \u001B[43msolve\u001B[49m\u001B[43m(\u001B[49m\u001B[43mproblem\u001B[49m\u001B[43m)\u001B[49m\n\u001B[1;32m      2\u001B[0m \u001B[38;5;28mprint\u001B[39m(solution)\n",
      "File \u001B[0;32m~/Documents/Soutěže a konference/hackjakbrno24/src/solver/solution.py:33\u001B[0m, in \u001B[0;36msolve\u001B[0;34m(problem)\u001B[0m\n\u001B[1;32m     14\u001B[0m solver_config \u001B[38;5;241m=\u001B[39m SolverConfig(\n\u001B[1;32m     15\u001B[0m     solution_class\u001B[38;5;241m=\u001B[39mShiftsSchedule,\n\u001B[1;32m     16\u001B[0m     entity_class_list\u001B[38;5;241m=\u001B[39m[ShiftAssignment],\n\u001B[0;32m   (...)\u001B[0m\n\u001B[1;32m     29\u001B[0m     )\n\u001B[1;32m     30\u001B[0m )\n\u001B[1;32m     32\u001B[0m \u001B[38;5;66;03m# Create solver factory and solution manager\u001B[39;00m\n\u001B[0;32m---> 33\u001B[0m solver_factory \u001B[38;5;241m=\u001B[39m \u001B[43mSolverFactory\u001B[49m\u001B[38;5;241;43m.\u001B[39;49m\u001B[43mcreate\u001B[49m\u001B[43m(\u001B[49m\u001B[43msolver_config\u001B[49m\u001B[43m)\u001B[49m\n\u001B[1;32m     34\u001B[0m solution_manager \u001B[38;5;241m=\u001B[39m SolutionManager\u001B[38;5;241m.\u001B[39mcreate(solver_factory)\n\u001B[1;32m     36\u001B[0m \u001B[38;5;66;03m# Build and run solver\u001B[39;00m\n",
      "File \u001B[0;32m~/.venvs/hackjakbrno24-o08ELfgh/lib/python3.10/site-packages/timefold/solver/_solver_factory.py:52\u001B[0m, in \u001B[0;36mSolverFactory.create\u001B[0;34m(solver_config)\u001B[0m\n\u001B[1;32m     50\u001B[0m \u001B[38;5;28;01mfrom\u001B[39;00m \u001B[38;5;21;01mai\u001B[39;00m\u001B[38;5;21;01m.\u001B[39;00m\u001B[38;5;21;01mtimefold\u001B[39;00m\u001B[38;5;21;01m.\u001B[39;00m\u001B[38;5;21;01msolver\u001B[39;00m\u001B[38;5;21;01m.\u001B[39;00m\u001B[38;5;21;01mcore\u001B[39;00m\u001B[38;5;21;01m.\u001B[39;00m\u001B[38;5;21;01mapi\u001B[39;00m\u001B[38;5;21;01m.\u001B[39;00m\u001B[38;5;21;01msolver\u001B[39;00m \u001B[38;5;28;01mimport\u001B[39;00m SolverFactory \u001B[38;5;28;01mas\u001B[39;00m JavaSolverFactory\n\u001B[1;32m     51\u001B[0m solver_config \u001B[38;5;241m=\u001B[39m solver_config\u001B[38;5;241m.\u001B[39m_to_java_solver_config()\n\u001B[0;32m---> 52\u001B[0m delegate \u001B[38;5;241m=\u001B[39m \u001B[43mJavaSolverFactory\u001B[49m\u001B[38;5;241;43m.\u001B[39;49m\u001B[43mcreate\u001B[49m\u001B[43m(\u001B[49m\u001B[43msolver_config\u001B[49m\u001B[43m)\u001B[49m  \u001B[38;5;66;03m# noqa\u001B[39;00m\n\u001B[1;32m     53\u001B[0m \u001B[38;5;28;01mreturn\u001B[39;00m SolverFactory(delegate, solver_config\u001B[38;5;241m.\u001B[39mgetSolutionClass())\n",
      "File \u001B[0;32m~/.venvs/hackjakbrno24-o08ELfgh/lib/python3.10/site-packages/timefold/solver/_timefold_java_interop.py:288\u001B[0m, in \u001B[0;36mwrap_errors.<locals>.wrapped_func\u001B[0;34m(*args, **kwargs)\u001B[0m\n\u001B[1;32m    286\u001B[0m \u001B[38;5;28;01mimport\u001B[39;00m \u001B[38;5;21;01mtraceback\u001B[39;00m\n\u001B[1;32m    287\u001B[0m msg \u001B[38;5;241m=\u001B[39m \u001B[38;5;124m'\u001B[39m\u001B[38;5;124m'\u001B[39m\u001B[38;5;241m.\u001B[39mjoin(traceback\u001B[38;5;241m.\u001B[39mTracebackException\u001B[38;5;241m.\u001B[39mfrom_exception(e)\u001B[38;5;241m.\u001B[39mformat())\n\u001B[0;32m--> 288\u001B[0m \u001B[38;5;28;01mraise\u001B[39;00m \u001B[38;5;167;01mRuntimeError\u001B[39;00m(msg)\n",
      "\u001B[0;31mRuntimeError\u001B[0m: Traceback (most recent call last):\n  File \"SolverFactory.java\", line 106, in ai.timefold.solver.core.api.solver.SolverFactory.create\nException: Java Exception\n\nThe above exception was the direct cause of the following exception:\n\nTraceback (most recent call last):\n  File \"/home/viki/.venvs/hackjakbrno24-o08ELfgh/lib/python3.10/site-packages/timefold/solver/_timefold_java_interop.py\", line 284, in wrapped_func\n    return func(*args, **kwargs)\n  File \"/home/viki/Documents/Soutěže a konference/hackjakbrno24/src/solver/constraints.py\", line 19, in define_constraints\n    no_overlapping_shifts(constraint_factory),\n  File \"/home/viki/Documents/Soutěže a konference/hackjakbrno24/src/solver/constraints.py\", line 38, in no_overlapping_shifts\n    .for_each_unique_pair(ShiftAssignment,\n  File \"/home/viki/.venvs/hackjakbrno24-o08ELfgh/lib/python3.10/site-packages/timefold/solver/score/_constraint_factory.py\", line 81, in for_each_unique_pair\n    return BiConstraintStream(self.delegate.forEachUniquePair(source_class,\njava.lang.java.lang.IllegalArgumentException: java.lang.IllegalArgumentException: Cannot use class (org.jpyinterpreter.user.src.solver.domain.ShiftAssignment) in a constraint stream as it is neither the same as, nor a superclass or superinterface of one of planning entities or problem facts.\nEnsure that all from(), join(), ifExists() and ifNotExists() building blocks only reference classes assignable from planning entities or problem facts ([org.jpyinterpreter.user.domain.Employee, org.jpyinterpreter.user.domain.Shift, org.jpyinterpreter.user.domain.ShiftAssignment]) annotated on the planning solution (org.jpyinterpreter.user.domain.ShiftsSchedule).\n"
     ]
    }
   ],
   "source": [
    "solution, score_analysis = solve(problem)\n",
    "print(solution)"
   ],
   "metadata": {
    "collapsed": false,
    "ExecuteTime": {
     "end_time": "2024-11-02T20:25:50.026260004Z",
     "start_time": "2024-11-02T20:25:47.379877310Z"
    }
   },
   "id": "1f9e6c669b9610d3",
   "execution_count": 4
  },
  {
   "cell_type": "code",
   "outputs": [],
   "source": [
    "solution"
   ],
   "metadata": {
    "collapsed": false,
    "ExecuteTime": {
     "start_time": "2024-11-02T20:25:50.030181633Z"
    }
   },
   "id": "92d0eb837f7e9742",
   "execution_count": null
  },
  {
   "cell_type": "code",
   "outputs": [],
   "source": [
    "score_analysis.summary"
   ],
   "metadata": {
    "collapsed": false,
    "ExecuteTime": {
     "start_time": "2024-11-02T20:25:50.031436058Z"
    }
   },
   "id": "7553348c9f6b90eb",
   "execution_count": null
  }
 ],
 "metadata": {
  "kernelspec": {
   "display_name": "Python 3",
   "language": "python",
   "name": "python3"
  },
  "language_info": {
   "codemirror_mode": {
    "name": "ipython",
    "version": 2
   },
   "file_extension": ".py",
   "mimetype": "text/x-python",
   "name": "python",
   "nbconvert_exporter": "python",
   "pygments_lexer": "ipython2",
   "version": "2.7.6"
  }
 },
 "nbformat": 4,
 "nbformat_minor": 5
}
