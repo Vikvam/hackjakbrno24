{
 "cells": [
  {
   "cell_type": "code",
   "outputs": [],
   "source": [
    "%load_ext autoreload\n",
    "%autoreload 2\n",
    "\n",
    "from src.solver.src.mock import *\n",
    "from src.solver.src.solution import *"
   ],
   "metadata": {
    "collapsed": false,
    "ExecuteTime": {
     "end_time": "2024-11-03T05:55:19.533400639Z",
     "start_time": "2024-11-03T05:55:16.410263414Z"
    }
   },
   "id": "e2e9ae1683075eec",
   "execution_count": 1
  },
  {
   "cell_type": "code",
   "execution_count": 2,
   "id": "initial_id",
   "metadata": {
    "collapsed": true,
    "ExecuteTime": {
     "end_time": "2024-11-03T05:55:19.549987058Z",
     "start_time": "2024-11-03T05:55:19.532301099Z"
    }
   },
   "outputs": [],
   "source": [
    "employees, shifts, assignments = problem_mock(2024, 11, seed=42)"
   ]
  },
  {
   "cell_type": "code",
   "outputs": [],
   "source": [
    "problem = ShiftsSchedule(employees, shifts, assignments)"
   ],
   "metadata": {
    "collapsed": false,
    "ExecuteTime": {
     "end_time": "2024-11-03T05:55:19.563145593Z",
     "start_time": "2024-11-03T05:55:19.550817905Z"
    }
   },
   "id": "afad0be0d4d4ebbc",
   "execution_count": 3
  },
  {
   "cell_type": "code",
   "outputs": [],
   "source": [
    "solution, score_analysis = solve(problem)\n",
    "print(solution)"
   ],
   "metadata": {
    "collapsed": false,
    "is_executing": true,
    "ExecuteTime": {
     "start_time": "2024-11-03T05:55:19.565057526Z"
    }
   },
   "id": "1f9e6c669b9610d3",
   "execution_count": null
  },
  {
   "cell_type": "code",
   "outputs": [],
   "source": [
    "solution"
   ],
   "metadata": {
    "collapsed": false,
    "is_executing": true
   },
   "id": "92d0eb837f7e9742",
   "execution_count": null
  },
  {
   "cell_type": "code",
   "outputs": [],
   "source": [
    "score_analysis.summary"
   ],
   "metadata": {
    "collapsed": false,
    "is_executing": true
   },
   "id": "7553348c9f6b90eb",
   "execution_count": null
  }
 ],
 "metadata": {
  "kernelspec": {
   "display_name": "Python 3",
   "language": "python",
   "name": "python3"
  },
  "language_info": {
   "codemirror_mode": {
    "name": "ipython",
    "version": 2
   },
   "file_extension": ".py",
   "mimetype": "text/x-python",
   "name": "python",
   "nbconvert_exporter": "python",
   "pygments_lexer": "ipython2",
   "version": "2.7.6"
  }
 },
 "nbformat": 4,
 "nbformat_minor": 5
}
