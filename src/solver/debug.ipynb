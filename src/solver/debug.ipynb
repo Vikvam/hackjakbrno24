{
 "cells": [
  {
   "cell_type": "code",
   "outputs": [],
   "source": [
    "%load_ext autoreload\n",
    "%autoreload 2\n",
    "\n",
    "from src.solver.src.mock import *\n",
    "from src.solver.src.solution import *\n",
    "from src.solver.src.serialize import *"
   ],
   "metadata": {
    "collapsed": false,
    "ExecuteTime": {
     "end_time": "2024-11-03T07:24:12.179908792Z",
     "start_time": "2024-11-03T07:24:09.220008276Z"
    }
   },
   "id": "e2e9ae1683075eec",
   "execution_count": 1
  },
  {
   "cell_type": "code",
   "execution_count": 2,
   "id": "initial_id",
   "metadata": {
    "collapsed": true,
    "ExecuteTime": {
     "end_time": "2024-11-03T07:24:12.288908701Z",
     "start_time": "2024-11-03T07:24:12.184686802Z"
    }
   },
   "outputs": [],
   "source": [
    "employees, shifts, assignments = problem_mock(2024, 11, seed=42)"
   ]
  },
  {
   "cell_type": "code",
   "outputs": [],
   "source": [
    "problem = ShiftsSchedule(employees, shifts, assignments)"
   ],
   "metadata": {
    "collapsed": false,
    "ExecuteTime": {
     "end_time": "2024-11-03T07:24:12.293622330Z",
     "start_time": "2024-11-03T07:24:12.283899551Z"
    }
   },
   "id": "afad0be0d4d4ebbc",
   "execution_count": 3
  },
  {
   "cell_type": "code",
   "outputs": [
    {
     "name": "stdout",
     "output_type": "stream",
     "text": [
      "ShiftSchedule(assignments=117, employees=75, shifts=108, score=-5097hard/-11530medium/-2800soft)\n"
     ]
    }
   ],
   "source": [
    "solution, score_analysis = solve(problem, spent_limit=Duration(minutes=45, seconds=30))\n",
    "print(solution)"
   ],
   "metadata": {
    "collapsed": false,
    "ExecuteTime": {
     "end_time": "2024-11-03T07:50:36.973470364Z",
     "start_time": "2024-11-03T07:32:53.462071862Z"
    }
   },
   "id": "1f9e6c669b9610d3",
   "execution_count": 8
  },
  {
   "cell_type": "code",
   "outputs": [
    {
     "data": {
      "text/plain": "-5097"
     },
     "execution_count": 13,
     "metadata": {},
     "output_type": "execute_result"
    }
   ],
   "source": [
    "solution.score.hard_score"
   ],
   "metadata": {
    "collapsed": false,
    "ExecuteTime": {
     "end_time": "2024-11-03T07:55:48.148130559Z",
     "start_time": "2024-11-03T07:55:48.125984058Z"
    }
   },
   "id": "92d0eb837f7e9742",
   "execution_count": 13
  },
  {
   "cell_type": "code",
   "outputs": [
    {
     "name": "stdout",
     "output_type": "stream",
     "text": [
      "src.solver.src.domain/department_desired 0hard/0medium/-2800soft\n",
      "src.solver.src.domain/availability_desired 0hard/-20medium/0soft\n",
      "src.solver.src.domain/availability_undesired 0hard/-10medium/0soft\n",
      "src.solver.src.domain/over_required_shift_amount 0hard/-4500medium/0soft\n",
      "src.solver.src.domain/under_required_shift_amount 0hard/-7000medium/0soft\n",
      "src.solver.src.domain/availability_impossible -96hard/0medium/0soft\n",
      "src.solver.src.domain/availability_necessary -1hard/0medium/0soft\n",
      "src.solver.src.domain/at_least_12h_rest -1000hard/0medium/0soft\n",
      "src.solver.src.domain/at_least_36h_rest_weekly 0hard/0medium/0soft\n",
      "src.solver.src.domain/has_qualification -2000hard/0medium/0soft\n",
      "src.solver.src.domain/no_overlapping_shifts -2000hard/0medium/0soft\n"
     ]
    }
   ],
   "source": [
    "for constraint_ref, constraint_analysis in score_analysis.constraint_map.items():\n",
    "   constraint_id = constraint_ref.constraint_id\n",
    "   score_per_constraint = constraint_analysis.score\n",
    "   print(constraint_id, score_per_constraint)"
   ],
   "metadata": {
    "collapsed": false,
    "ExecuteTime": {
     "end_time": "2024-11-03T07:55:02.111039599Z",
     "start_time": "2024-11-03T07:55:02.091383046Z"
    }
   },
   "id": "5f3a09e4e385b06",
   "execution_count": 10
  },
  {
   "cell_type": "code",
   "outputs": [],
   "source": [
    "with open(f\"{solution.score.hard_score}.solution.json\", \"w\") as f:\n",
    "   f.write(serialize_result(solution, score_analysis))"
   ],
   "metadata": {
    "collapsed": false,
    "ExecuteTime": {
     "end_time": "2024-11-03T07:56:04.091671633Z",
     "start_time": "2024-11-03T07:55:59.128057029Z"
    }
   },
   "id": "76b1756dff250d60",
   "execution_count": 14
  },
  {
   "cell_type": "code",
   "outputs": [],
   "source": [],
   "metadata": {
    "collapsed": false,
    "ExecuteTime": {
     "start_time": "2024-11-03T07:24:14.272824854Z"
    }
   },
   "id": "f6016bdf5f798a9d"
  }
 ],
 "metadata": {
  "kernelspec": {
   "display_name": "Python 3",
   "language": "python",
   "name": "python3"
  },
  "language_info": {
   "codemirror_mode": {
    "name": "ipython",
    "version": 2
   },
   "file_extension": ".py",
   "mimetype": "text/x-python",
   "name": "python",
   "nbconvert_exporter": "python",
   "pygments_lexer": "ipython2",
   "version": "2.7.6"
  }
 },
 "nbformat": 4,
 "nbformat_minor": 5
}
