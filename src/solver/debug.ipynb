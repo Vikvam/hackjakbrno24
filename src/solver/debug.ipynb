{
 "cells": [
  {
   "cell_type": "code",
   "outputs": [],
   "source": [
    "%load_ext autoreload\n",
    "%autoreload 2\n",
    "\n",
    "from src.solver.src.mock import *\n",
    "from src.solver.src.solution import *\n",
    "from src.solver.src.serialize import *"
   ],
   "metadata": {
    "collapsed": false,
    "ExecuteTime": {
     "end_time": "2024-11-03T10:24:31.244571738Z",
     "start_time": "2024-11-03T10:24:28.043219737Z"
    }
   },
   "id": "e2e9ae1683075eec",
   "execution_count": 1
  },
  {
   "cell_type": "code",
   "outputs": [],
   "source": [
    "problem_doctors = ShiftsSchedule(*problem_mock_doctors(2024, 11, seed=42, type=\"weekly\"))\n",
    "problem_nurses = ShiftsSchedule(*problem_mock_nurses(2024, 11, seed=42, type=\"weekly\"))\n",
    "problem_rtg_assistants = ShiftsSchedule(*problem_mock_rtg_assistants(2024, 11, seed=42, type=\"weekly\"))"
   ],
   "metadata": {
    "collapsed": false,
    "ExecuteTime": {
     "end_time": "2024-11-03T10:24:31.341642306Z",
     "start_time": "2024-11-03T10:24:31.321551098Z"
    }
   },
   "id": "afad0be0d4d4ebbc",
   "execution_count": 2
  },
  {
   "cell_type": "code",
   "outputs": [
    {
     "data": {
      "text/plain": "<timefold.solver.score._score_analysis.ScoreAnalysis at 0x7daf7c74cdf0>"
     },
     "execution_count": 3,
     "metadata": {},
     "output_type": "execute_result"
    }
   ],
   "source": [
    "solution_doctors, score_analysis_doctors = solve(problem_doctors, spent_limit=Duration(minutes=5, seconds=0))\n",
    "with open(f\"doctors.{score_analysis_doctors.score.hard_score}.solution.json\", \"w\") as f:\n",
    "   f.write(serialize_result(solution_doctors, score_analysis_doctors))\n",
    "score_analysis_doctors"
   ],
   "metadata": {
    "collapsed": false,
    "ExecuteTime": {
     "end_time": "2024-11-03T10:27:04.583728800Z",
     "start_time": "2024-11-03T10:24:31.344464234Z"
    }
   },
   "id": "1f9e6c669b9610d3",
   "execution_count": 3
  },
  {
   "cell_type": "code",
   "outputs": [],
   "source": [
    "solution_nurses, score_analysis_nurses = solve(problem_nurses, spent_limit=Duration(minutes=5, seconds=0))\n",
    "with open(f\"nurses.{score_analysis_nurses.score.hard_score}.solution.json\", \"w\") as f:\n",
    "   f.write(serialize_result(solution_nurses, score_analysis_nurses))"
   ],
   "metadata": {
    "collapsed": false,
    "is_executing": true,
    "ExecuteTime": {
     "start_time": "2024-11-03T10:27:04.583157290Z"
    }
   },
   "id": "92d0eb837f7e9742",
   "execution_count": null
  },
  {
   "cell_type": "code",
   "outputs": [],
   "source": [
    "solution_rtg_assistants, score_analysis_rtg_assistants = solve(problem_rtg_assistants, spent_limit=Duration(minutes=5, seconds=0))\n",
    "with open(f\"rtg_assistants.{score_analysis_rtg_assistants.score.hard_score}.solution.json\", \"w\") as f:\n",
    "   f.write(serialize_result(solution_rtg_assistants, score_analysis_rtg_assistants))"
   ],
   "metadata": {
    "collapsed": false,
    "is_executing": true
   },
   "id": "51aab91b86b327f0",
   "execution_count": null
  },
  {
   "cell_type": "code",
   "outputs": [],
   "source": [
    "for score_analysis in (score_analysis_doctors, score_analysis_nurses, score_analysis_rtg_assistants):\n",
    "   for constraint_ref, constraint_analysis in score_analysis.constraint_map.items():\n",
    "      constraint_id = constraint_ref.constraint_id\n",
    "      score_per_constraint = constraint_analysis.score\n",
    "      print(constraint_id, score_per_constraint)"
   ],
   "metadata": {
    "collapsed": false,
    "is_executing": true
   },
   "id": "5f3a09e4e385b06",
   "execution_count": null
  },
  {
   "cell_type": "code",
   "outputs": [],
   "source": [],
   "metadata": {
    "collapsed": false,
    "is_executing": true
   },
   "id": "76b1756dff250d60",
   "execution_count": null
  },
  {
   "cell_type": "code",
   "outputs": [],
   "source": [],
   "metadata": {
    "collapsed": false,
    "is_executing": true
   },
   "id": "f6016bdf5f798a9d"
  },
  {
   "cell_type": "code",
   "outputs": [],
   "source": [],
   "metadata": {
    "collapsed": false,
    "is_executing": true
   },
   "id": "fb0a8bad90adf668"
  }
 ],
 "metadata": {
  "kernelspec": {
   "display_name": "Python 3",
   "language": "python",
   "name": "python3"
  },
  "language_info": {
   "codemirror_mode": {
    "name": "ipython",
    "version": 2
   },
   "file_extension": ".py",
   "mimetype": "text/x-python",
   "name": "python",
   "nbconvert_exporter": "python",
   "pygments_lexer": "ipython2",
   "version": "2.7.6"
  }
 },
 "nbformat": 4,
 "nbformat_minor": 5
}
