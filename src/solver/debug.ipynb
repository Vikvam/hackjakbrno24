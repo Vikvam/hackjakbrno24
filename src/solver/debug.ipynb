{
 "cells": [
  {
   "cell_type": "code",
   "outputs": [],
   "source": [
    "%load_ext autoreload\n",
    "%autoreload 2\n",
    "\n",
    "import calendar\n",
    "from src.solver.solution import *"
   ],
   "metadata": {
    "collapsed": false,
    "ExecuteTime": {
     "end_time": "2024-11-02T16:11:29.065298796Z",
     "start_time": "2024-11-02T16:11:25.727739015Z"
    }
   },
   "id": "e2e9ae1683075eec",
   "execution_count": 1
  },
  {
   "cell_type": "code",
   "execution_count": 2,
   "id": "initial_id",
   "metadata": {
    "collapsed": true,
    "ExecuteTime": {
     "end_time": "2024-11-02T16:11:29.095651035Z",
     "start_time": "2024-11-02T16:11:29.076864862Z"
    }
   },
   "outputs": [],
   "source": [
    "random.seed(42)\n",
    "YEAR = 2024\n",
    "MONTH = 11\n",
    "\n",
    "doctor_shifts = []\n",
    "shift_availabilities = {}\n",
    "for date in calendar.Calendar().itermonthdates(YEAR, MONTH):\n",
    "    if date.month != MONTH: continue\n",
    "    if date.weekday() > 4:\n",
    "        doctor_shifts.extend([\n",
    "            Shift(ShiftDatetype(date, ShiftType.WEEKEND_MORNING), Department.RTG, 1, Qualifications.L2),\n",
    "            Shift(ShiftDatetype(date, ShiftType.WEEKEND_EVENING), Department.RTG, 1, Qualifications.L2),\n",
    "        ])\n",
    "        for shift_type in ShiftType.weekendrange():\n",
    "            shift_availabilities[ShiftDatetype(date, shift_type)] = None\n",
    "    else:\n",
    "        doctor_shifts.extend([\n",
    "            Shift(ShiftDatetype(date, ShiftType.MORNING), Department.RTG, 1, Qualifications.L3),\n",
    "            Shift(ShiftDatetype(date, ShiftType.MORNING), Department.RTG, 1, Qualifications.L2),\n",
    "            Shift(ShiftDatetype(date, ShiftType.AFTERNOON), Department.RTG, 1, Qualifications.L2),\n",
    "            Shift(ShiftDatetype(date, ShiftType.OVERNIGHT), Department.RTG, 1, Qualifications.L2),\n",
    "            Shift(ShiftDatetype(date, ShiftType.MORNING), Department.RTG, 3, None),\n",
    "            Shift(ShiftDatetype(date, ShiftType.AFTERNOON), Department.RTG, 2, None),\n",
    "        ])\n",
    "        for shift_type in ShiftType.weekdayrange():\n",
    "            shift_availabilities[ShiftDatetype(date, shift_type)] = None\n",
    "\n",
    "doctor_assignments = [ShiftAssignment(shift) for shift in doctor_shifts for _ in range(shift.amount)]\n",
    "\n",
    "doctors = [\n",
    "    Doctor(\n",
    "        f\"Doc{i}\",\n",
    "        {Department.RTG: .5, Department.CT: .5},\n",
    "        {datetype: Availability.random() for datetype in shift_availabilities},\n",
    "        Qualifications.L3,\n",
    "        None,\n",
    "        None\n",
    "    ) for i in range(10)\n",
    "]"
   ]
  },
  {
   "cell_type": "code",
   "outputs": [],
   "source": [
    "problem = ShiftsSchedule(doctors, doctor_shifts, doctor_assignments)"
   ],
   "metadata": {
    "collapsed": false,
    "ExecuteTime": {
     "end_time": "2024-11-02T16:11:29.111078727Z",
     "start_time": "2024-11-02T16:11:29.097710322Z"
    }
   },
   "id": "afad0be0d4d4ebbc",
   "execution_count": 3
  },
  {
   "cell_type": "code",
   "outputs": [
    {
     "name": "stdout",
     "output_type": "stream",
     "text": [
      "<2024-11-01 ShiftType.MORNING> <2024-11-01 ShiftType.MORNING> True\n",
      "<2024-11-01 ShiftType.MORNING> <2024-11-01 ShiftType.MORNING> True\n",
      "<2024-11-01 ShiftType.MORNING> <2024-11-01 ShiftType.MORNING> True\n",
      "<2024-11-01 ShiftType.MORNING> <2024-11-01 ShiftType.MORNING> True\n",
      "<2024-11-01 ShiftType.MORNING> <2024-11-01 ShiftType.MORNING> True\n",
      "<2024-11-01 ShiftType.MORNING> <2024-11-01 ShiftType.MORNING> True\n",
      "<2024-11-01 ShiftType.MORNING> <2024-11-01 ShiftType.MORNING> True\n",
      "<2024-11-01 ShiftType.MORNING> <2024-11-01 ShiftType.MORNING> True\n",
      "<2024-11-01 ShiftType.MORNING> <2024-11-01 ShiftType.MORNING> True\n",
      "<2024-11-01 ShiftType.MORNING> <2024-11-01 ShiftType.MORNING> True\n",
      "<2024-11-01 ShiftType.MORNING> <2024-11-01 ShiftType.MORNING> True\n",
      "<2024-11-01 ShiftType.MORNING> <2024-11-01 ShiftType.MORNING> True\n",
      "<2024-11-01 ShiftType.MORNING> <2024-11-01 ShiftType.MORNING> True\n",
      "<2024-11-01 ShiftType.MORNING> <2024-11-01 ShiftType.MORNING> True\n",
      "<2024-11-01 ShiftType.MORNING> <2024-11-01 ShiftType.MORNING> True\n",
      "<2024-11-01 ShiftType.MORNING> <2024-11-01 ShiftType.MORNING> True\n",
      "<2024-11-01 ShiftType.MORNING> <2024-11-01 ShiftType.MORNING> True\n",
      "<2024-11-01 ShiftType.MORNING> <2024-11-01 ShiftType.MORNING> True\n",
      "<2024-11-01 ShiftType.MORNING> <2024-11-01 ShiftType.MORNING> True\n",
      "<2024-11-01 ShiftType.MORNING> <2024-11-01 ShiftType.MORNING> True\n",
      "<2024-11-01 ShiftType.MORNING> <2024-11-01 ShiftType.MORNING> True\n",
      "<2024-11-01 ShiftType.MORNING> <2024-11-01 ShiftType.MORNING> True\n",
      "<2024-11-01 ShiftType.MORNING> <2024-11-01 ShiftType.MORNING> True\n",
      "<2024-11-01 ShiftType.MORNING> <2024-11-01 ShiftType.MORNING> True\n",
      "<2024-11-01 ShiftType.MORNING> <2024-11-01 ShiftType.AFTERNOON> True\n",
      "<2024-11-01 ShiftType.AFTERNOON> <2024-11-01 ShiftType.AFTERNOON> True\n",
      "<2024-11-01 ShiftType.MORNING> <2024-11-01 ShiftType.AFTERNOON> True\n",
      "<2024-11-01 ShiftType.AFTERNOON> <2024-11-01 ShiftType.AFTERNOON> True\n"
     ]
    },
    {
     "ename": "KeyboardInterrupt",
     "evalue": "",
     "output_type": "error",
     "traceback": [
      "\u001B[0;31m---------------------------------------------------------------------------\u001B[0m",
      "\u001B[0;31mKeyboardInterrupt\u001B[0m                         Traceback (most recent call last)",
      "Cell \u001B[0;32mIn[4], line 1\u001B[0m\n\u001B[0;32m----> 1\u001B[0m solution, score_analysis \u001B[38;5;241m=\u001B[39m \u001B[43msolve\u001B[49m\u001B[43m(\u001B[49m\u001B[43mproblem\u001B[49m\u001B[43m)\u001B[49m\n\u001B[1;32m      2\u001B[0m \u001B[38;5;28mprint\u001B[39m(solution)\n",
      "File \u001B[0;32m~/Documents/Soutěže a konference/hackjakbrno24/src/solver/solution.py:39\u001B[0m, in \u001B[0;36msolve\u001B[0;34m(problem)\u001B[0m\n\u001B[1;32m     37\u001B[0m \u001B[38;5;66;03m# Build and run solver\u001B[39;00m\n\u001B[1;32m     38\u001B[0m solver \u001B[38;5;241m=\u001B[39m solver_factory\u001B[38;5;241m.\u001B[39mbuild_solver()\n\u001B[0;32m---> 39\u001B[0m solution \u001B[38;5;241m=\u001B[39m \u001B[43msolver\u001B[49m\u001B[38;5;241;43m.\u001B[39;49m\u001B[43msolve\u001B[49m\u001B[43m(\u001B[49m\u001B[43mproblem\u001B[49m\u001B[43m)\u001B[49m\n\u001B[1;32m     41\u001B[0m \u001B[38;5;66;03m# Explain solution\u001B[39;00m\n\u001B[1;32m     42\u001B[0m score_analysis \u001B[38;5;241m=\u001B[39m solution_manager\u001B[38;5;241m.\u001B[39manalyze(solution)\n",
      "File \u001B[0;32m~/.venvs/hackjakbrno24-o08ELfgh/lib/python3.10/site-packages/timefold/solver/_solver.py:109\u001B[0m, in \u001B[0;36mSolver.solve\u001B[0;34m(self, problem)\u001B[0m\n\u001B[1;32m    107\u001B[0m update_log_level()\n\u001B[1;32m    108\u001B[0m \u001B[38;5;28;01mtry\u001B[39;00m:\n\u001B[0;32m--> 109\u001B[0m     java_solution \u001B[38;5;241m=\u001B[39m \u001B[38;5;28;43mself\u001B[39;49m\u001B[38;5;241;43m.\u001B[39;49m\u001B[43m_delegate\u001B[49m\u001B[38;5;241;43m.\u001B[39;49m\u001B[43msolve\u001B[49m\u001B[43m(\u001B[49m\u001B[43mjava_problem\u001B[49m\u001B[43m)\u001B[49m\n\u001B[1;32m    110\u001B[0m \u001B[38;5;28;01mexcept\u001B[39;00m PythonBaseException \u001B[38;5;28;01mas\u001B[39;00m e:\n\u001B[1;32m    111\u001B[0m     \u001B[38;5;28;01mraise\u001B[39;00m unwrap_python_like_object(e)\n",
      "File \u001B[0;32m~/.venvs/hackjakbrno24-o08ELfgh/lib/python3.10/site-packages/_jpyinterpreter/conversions.py:740\u001B[0m, in \u001B[0;36mupdate_python_object_from_java\u001B[0;34m(java_object, clone_map)\u001B[0m\n\u001B[1;32m    737\u001B[0m     clone_map \u001B[38;5;241m=\u001B[39m PythonCloneMap(IdentityHashMap(), \u001B[38;5;28mdict\u001B[39m())\n\u001B[1;32m    739\u001B[0m \u001B[38;5;28;01mtry\u001B[39;00m:\n\u001B[0;32m--> 740\u001B[0m     \u001B[38;5;28;43mgetattr\u001B[39;49m\u001B[43m(\u001B[49m\u001B[43mjava_object\u001B[49m\u001B[43m,\u001B[49m\u001B[43m \u001B[49m\u001B[38;5;124;43m'\u001B[39;49m\u001B[38;5;124;43m$writeFieldsToCPythonReference\u001B[39;49m\u001B[38;5;124;43m'\u001B[39;49m\u001B[43m)\u001B[49m\u001B[43m(\u001B[49m\u001B[43mJProxy\u001B[49m\u001B[43m(\u001B[49m\u001B[43mOpaquePythonReference\u001B[49m\u001B[43m,\u001B[49m\n\u001B[1;32m    741\u001B[0m \u001B[43m                                                                  \u001B[49m\u001B[43minst\u001B[49m\u001B[38;5;241;43m=\u001B[39;49m\u001B[43mclone_map\u001B[49m\u001B[43m,\u001B[49m\n\u001B[1;32m    742\u001B[0m \u001B[43m                                                                  \u001B[49m\u001B[43mconvert\u001B[49m\u001B[38;5;241;43m=\u001B[39;49m\u001B[38;5;28;43;01mTrue\u001B[39;49;00m\u001B[43m)\u001B[49m\u001B[43m)\u001B[49m\n\u001B[1;32m    743\u001B[0m \u001B[38;5;28;01mexcept\u001B[39;00m \u001B[38;5;167;01mTypeError\u001B[39;00m:\n\u001B[1;32m    744\u001B[0m     \u001B[38;5;66;03m# The Python Object is immutable; so no changes from Java\u001B[39;00m\n\u001B[1;32m    745\u001B[0m     \u001B[38;5;28;01mpass\u001B[39;00m\n",
      "File \u001B[0;32m~/.venvs/hackjakbrno24-o08ELfgh/lib/python3.10/site-packages/_jpyinterpreter/conversions.py:740\u001B[0m, in \u001B[0;36mupdate_python_object_from_java\u001B[0;34m(java_object, clone_map)\u001B[0m\n\u001B[1;32m    737\u001B[0m     clone_map \u001B[38;5;241m=\u001B[39m PythonCloneMap(IdentityHashMap(), \u001B[38;5;28mdict\u001B[39m())\n\u001B[1;32m    739\u001B[0m \u001B[38;5;28;01mtry\u001B[39;00m:\n\u001B[0;32m--> 740\u001B[0m     \u001B[38;5;28;43mgetattr\u001B[39;49m\u001B[43m(\u001B[49m\u001B[43mjava_object\u001B[49m\u001B[43m,\u001B[49m\u001B[43m \u001B[49m\u001B[38;5;124;43m'\u001B[39;49m\u001B[38;5;124;43m$writeFieldsToCPythonReference\u001B[39;49m\u001B[38;5;124;43m'\u001B[39;49m\u001B[43m)\u001B[49m\u001B[43m(\u001B[49m\u001B[43mJProxy\u001B[49m\u001B[43m(\u001B[49m\u001B[43mOpaquePythonReference\u001B[49m\u001B[43m,\u001B[49m\n\u001B[1;32m    741\u001B[0m \u001B[43m                                                                  \u001B[49m\u001B[43minst\u001B[49m\u001B[38;5;241;43m=\u001B[39;49m\u001B[43mclone_map\u001B[49m\u001B[43m,\u001B[49m\n\u001B[1;32m    742\u001B[0m \u001B[43m                                                                  \u001B[49m\u001B[43mconvert\u001B[49m\u001B[38;5;241;43m=\u001B[39;49m\u001B[38;5;28;43;01mTrue\u001B[39;49;00m\u001B[43m)\u001B[49m\u001B[43m)\u001B[49m\n\u001B[1;32m    743\u001B[0m \u001B[38;5;28;01mexcept\u001B[39;00m \u001B[38;5;167;01mTypeError\u001B[39;00m:\n\u001B[1;32m    744\u001B[0m     \u001B[38;5;66;03m# The Python Object is immutable; so no changes from Java\u001B[39;00m\n\u001B[1;32m    745\u001B[0m     \u001B[38;5;28;01mpass\u001B[39;00m\n",
      "    \u001B[0;31m[... skipping similar frames: update_python_object_from_java at line 740 (2 times)]\u001B[0m\n",
      "File \u001B[0;32m~/.venvs/hackjakbrno24-o08ELfgh/lib/python3.10/site-packages/_jpyinterpreter/conversions.py:740\u001B[0m, in \u001B[0;36mupdate_python_object_from_java\u001B[0;34m(java_object, clone_map)\u001B[0m\n\u001B[1;32m    737\u001B[0m     clone_map \u001B[38;5;241m=\u001B[39m PythonCloneMap(IdentityHashMap(), \u001B[38;5;28mdict\u001B[39m())\n\u001B[1;32m    739\u001B[0m \u001B[38;5;28;01mtry\u001B[39;00m:\n\u001B[0;32m--> 740\u001B[0m     \u001B[38;5;28;43mgetattr\u001B[39;49m\u001B[43m(\u001B[49m\u001B[43mjava_object\u001B[49m\u001B[43m,\u001B[49m\u001B[43m \u001B[49m\u001B[38;5;124;43m'\u001B[39;49m\u001B[38;5;124;43m$writeFieldsToCPythonReference\u001B[39;49m\u001B[38;5;124;43m'\u001B[39;49m\u001B[43m)\u001B[49m\u001B[43m(\u001B[49m\u001B[43mJProxy\u001B[49m\u001B[43m(\u001B[49m\u001B[43mOpaquePythonReference\u001B[49m\u001B[43m,\u001B[49m\n\u001B[1;32m    741\u001B[0m \u001B[43m                                                                  \u001B[49m\u001B[43minst\u001B[49m\u001B[38;5;241;43m=\u001B[39;49m\u001B[43mclone_map\u001B[49m\u001B[43m,\u001B[49m\n\u001B[1;32m    742\u001B[0m \u001B[43m                                                                  \u001B[49m\u001B[43mconvert\u001B[49m\u001B[38;5;241;43m=\u001B[39;49m\u001B[38;5;28;43;01mTrue\u001B[39;49;00m\u001B[43m)\u001B[49m\u001B[43m)\u001B[49m\n\u001B[1;32m    743\u001B[0m \u001B[38;5;28;01mexcept\u001B[39;00m \u001B[38;5;167;01mTypeError\u001B[39;00m:\n\u001B[1;32m    744\u001B[0m     \u001B[38;5;66;03m# The Python Object is immutable; so no changes from Java\u001B[39;00m\n\u001B[1;32m    745\u001B[0m     \u001B[38;5;28;01mpass\u001B[39;00m\n",
      "\u001B[0;31mKeyboardInterrupt\u001B[0m: "
     ]
    }
   ],
   "source": [
    "solution, score_analysis = solve(problem)\n",
    "print(solution)"
   ],
   "metadata": {
    "collapsed": false,
    "ExecuteTime": {
     "end_time": "2024-11-02T16:11:34.410974628Z",
     "start_time": "2024-11-02T16:11:29.114832232Z"
    }
   },
   "id": "1f9e6c669b9610d3",
   "execution_count": 4
  },
  {
   "cell_type": "code",
   "outputs": [],
   "source": [
    "score_analysis.summary"
   ],
   "metadata": {
    "collapsed": false,
    "ExecuteTime": {
     "start_time": "2024-11-02T16:11:34.410648502Z"
    }
   },
   "id": "7553348c9f6b90eb",
   "execution_count": null
  }
 ],
 "metadata": {
  "kernelspec": {
   "display_name": "Python 3",
   "language": "python",
   "name": "python3"
  },
  "language_info": {
   "codemirror_mode": {
    "name": "ipython",
    "version": 2
   },
   "file_extension": ".py",
   "mimetype": "text/x-python",
   "name": "python",
   "nbconvert_exporter": "python",
   "pygments_lexer": "ipython2",
   "version": "2.7.6"
  }
 },
 "nbformat": 4,
 "nbformat_minor": 5
}
